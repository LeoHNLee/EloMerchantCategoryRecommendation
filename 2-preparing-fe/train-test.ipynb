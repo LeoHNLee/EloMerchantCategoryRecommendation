{
 "cells": [
  {
   "cell_type": "code",
   "execution_count": 1,
   "metadata": {},
   "outputs": [],
   "source": [
    "# general\n",
    "import warnings, gc, sys, os, operator\n",
    "warnings.filterwarnings('ignore')\n",
    "\n",
    "# data\n",
    "import pandas as pd\n",
    "import numpy as np\n",
    "from datetime import datetime as dt"
   ]
  },
  {
   "cell_type": "code",
   "execution_count": null,
   "metadata": {},
   "outputs": [],
   "source": [
    "read_path = '../dataset/'\n",
    "write_path = '../dataset/fin/'\n",
    "train = pd.read_csv(read_path+'origin/train.csv')\n",
    "test = pd.read_csv(read_path+'origin/test.csv')"
   ]
  },
  {
   "cell_type": "code",
   "execution_count": null,
   "metadata": {},
   "outputs": [],
   "source": [
    "train = trainTestFE(train)\n",
    "test = trainTestFE(test, isTrain=False)\n",
    "train.to_csv(path+'trainFE_0213.csv', index=False)\n",
    "test.to_csv(path+'testFE_0213.csv', index=False)"
   ]
  },
  {
   "cell_type": "code",
   "execution_count": null,
   "metadata": {},
   "outputs": [],
   "source": [
    "def trainTestFE(df, isTrain=True):\n",
    "\n",
    "    df['first_active'] = pd.to_datetime(df['first_active_month'])\n",
    "    df['first_active_year'] = df['first_active'].dt.year\n",
    "    df['first_active_month'] = df['first_active'].dt.month\n",
    "    df['first_active_quarter'] = df['first_active'].dt.quarter\n",
    "    df['first_active_weekofyear'] = df['first_active'].dt.weekofyear\n",
    "    df['first_active_dayofweek'] = df['first_active'].dt.dayofweek\n",
    "    \n",
    "    # 모든 데이터의 마지막 거래날짜가 2018년 4월 30일 23시 59분 59초\n",
    "    df['first_active_elapsed_time_from_trade'] = (dt(2018, 4, 30, 23, 59, 59) - df['first_active']).dt.days\n",
    "    df['first_active_elapsed_time_from_today'] = (dt.today() - df['first_active']).dt.days\n",
    "    df['first_active_total_day'] = pd.to_timedelta(df['first_active']).dt.total_seconds() / (60 * 60 * 24)\n",
    "\n",
    "    df['days_feature1_trade'] = df['feature_1'] * df['first_active_elapsed_time_from_trade']\n",
    "    df['days_feature2_trade'] = df['feature_2'] * df['first_active_elapsed_time_from_trade'] \n",
    "    df['days_feature3_trade'] = df['feature_3'] * df['first_active_elapsed_time_from_trade'] \n",
    "\n",
    "    df['days_feature1_trade_ratio'] = df['feature_1'] / df['first_active_elapsed_time_from_trade']\n",
    "    df['days_feature2_trade_ratio'] = df['feature_2'] / df['first_active_elapsed_time_from_trade']\n",
    "    df['days_feature3_trade_ratio'] = df['feature_3'] / df['first_active_elapsed_time_from_trade']\n",
    "    \n",
    "    if isTrain :\n",
    "        df['outliers'] = (df['target']==df['target'].min())*1\n",
    "        for f in ['feature_1','feature_2','feature_3', 'first_active_year', 'first_active_month', 'first_active_total_day']:\n",
    "            order_label = df.groupby([f])['outliers'].mean()\n",
    "            df[f + '_outlier'] = df[f].map(order_label)\n",
    "\n",
    "        df['feature_sum_outlier'] = df['feature_1_outlier'] + df['feature_2_outlier'] + df['feature_3_outlier']\n",
    "        df['feature_mean_outlier'] = df['feature_sum_outlier'] / 3\n",
    "        df['feature_max_outlier'] = df[['feature_1_outlier', 'feature_2_outlier', 'feature_3_outlier']].max(axis=1)\n",
    "        df['feature_min_outlier'] = df[['feature_1_outlier', 'feature_2_outlier', 'feature_3_outlier']].min(axis=1)\n",
    "        df['feature_var_outlier'] = df[['feature_1_outlier', 'feature_2_outlier', 'feature_3_outlier']].std(axis=1)\n",
    "\n",
    "    df['feature_sum'] = df['feature_1'] + df['feature_2'] + df['feature_3']\n",
    "    df['feature_mean'] = df['feature_sum'] / 3\n",
    "    df['feature_max'] = df[['feature_1', 'feature_2', 'feature_3']].max(axis=1)\n",
    "    df['feature_min'] = df[['feature_1', 'feature_2', 'feature_3']].min(axis=1)\n",
    "    df['feature_var'] = df[['feature_1', 'feature_2', 'feature_3']].std(axis=1)\n",
    "    \n",
    "    return df"
   ]
  }
 ],
 "metadata": {
  "kernelspec": {
   "display_name": "Python 3",
   "language": "python",
   "name": "python3"
  },
  "language_info": {
   "codemirror_mode": {
    "name": "ipython",
    "version": 3
   },
   "file_extension": ".py",
   "mimetype": "text/x-python",
   "name": "python",
   "nbconvert_exporter": "python",
   "pygments_lexer": "ipython3",
   "version": "3.7.2"
  }
 },
 "nbformat": 4,
 "nbformat_minor": 2
}

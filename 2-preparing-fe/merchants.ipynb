{
 "cells": [
  {
   "cell_type": "code",
   "execution_count": null,
   "metadata": {},
   "outputs": [],
   "source": [
    "# general\n",
    "import warnings, gc, sys, os, operator\n",
    "warnings.filterwarnings('ignore')\n",
    "\n",
    "# data\n",
    "import pandas as pd\n",
    "import numpy as np"
   ]
  },
  {
   "cell_type": "code",
   "execution_count": null,
   "metadata": {},
   "outputs": [],
   "source": [
    "read_path = '../dataset/origin/'\n",
    "write_path = '../dataset/fin/'\n",
    "mer = pd.read_hdf(read_path+'mer.h5')"
   ]
  },
  {
   "cell_type": "code",
   "execution_count": null,
   "metadata": {},
   "outputs": [],
   "source": [
    "mer = merPrep(mer)\n",
    "merAgged = merAgg(mer)\n",
    "mer.to_hdf(write_path+'mer.h5', 'mer')"
   ]
  },
  {
   "cell_type": "code",
   "execution_count": null,
   "metadata": {},
   "outputs": [],
   "source": [
    "abcde = {'A':0, 'B':1, 'C':2, 'D':3, 'E':4}\n",
    "    \n",
    "def merPrep(df):\n",
    "    df['category_1_new'] = (df['category_1']=='Y')*1\n",
    "    df['most_recent_sales_range_new'] = df['most_recent_sales_range'].map(abcde)\n",
    "    df['most_recent_purchases_range_new'] = df['most_recent_purchases_range'].map(abcde)\n",
    "    df['category_4_new'] = (df['category_4']=='Y')*1\n",
    "    \n",
    "    df = df.rename(columns={'category_2':'category_5'})\n",
    "    \n",
    "    df['numerical_1_new'] = np.round(df['numerical_1'] / 0.009914905 + 5.79639).astype(int)\n",
    "    df['numerical_2_new'] = np.round(df['numerical_2'] / 0.009914905 + 5.79639).astype(int)\n",
    "    \n",
    "    return df\n",
    "\n",
    "def merAgg(df):\n",
    "    aggs = {\n",
    "# from mer\n",
    "        'merchant_group_id':[mode, 'nunique',],\n",
    "        'category_5':[mode, 'nunique','mean', 'var',],\n",
    "        'avg_sales_lag3':['sum','max', 'min','mean', 'median', 'var', quantileRange], \n",
    "        'avg_purchases_lag3':['sum','max', 'min','mean', 'median', 'var', quantileRange], \n",
    "        'active_months_lag3':['sum','max', 'min','mean', 'median', 'var', quantileRange],\n",
    "        'avg_sales_lag6':['sum','max', 'min','mean', 'median', 'var', quantileRange], \n",
    "        'avg_purchases_lag6':['sum','max', 'min','mean', 'median', 'var', quantileRange], \n",
    "        'active_months_lag6':['sum','max', 'min','mean', 'median', 'var', quantileRange],\n",
    "        'avg_sales_lag12':['sum','max', 'min','mean', 'median', 'var', quantileRange], \n",
    "        'avg_purchases_lag12':['sum','max', 'min','mean', 'median', 'var', quantileRange], \n",
    "        'active_months_lag12':['sum','max', 'min','mean', 'median', 'var', quantileRange],\n",
    "        \n",
    "        # new features\n",
    "        \n",
    "        'numerical_1_new': ['sum','max', 'min', 'mean', 'median', 'var', quantileRange],\n",
    "        'numerical_2_new': ['sum','max', 'min', 'mean', 'median', 'var', quantileRange],\n",
    "        'most_recent_sales_range_new':[mode, 'nunique','mean', 'var',],\n",
    "        'most_recent_purchases_range_new':[mode, 'nunique','mean', 'var',],\n",
    "        'category_4_new':[mode, 'nunique','mean', 'var',],\n",
    "    }\n",
    "\n",
    "    return df.groupby('card_id').agg(aggs).reset_index()"
   ]
  }
 ],
 "metadata": {
  "kernelspec": {
   "display_name": "Python 3",
   "language": "python",
   "name": "python3"
  },
  "language_info": {
   "codemirror_mode": {
    "name": "ipython",
    "version": 3
   },
   "file_extension": ".py",
   "mimetype": "text/x-python",
   "name": "python",
   "nbconvert_exporter": "python",
   "pygments_lexer": "ipython3",
   "version": "3.7.2"
  }
 },
 "nbformat": 4,
 "nbformat_minor": 2
}

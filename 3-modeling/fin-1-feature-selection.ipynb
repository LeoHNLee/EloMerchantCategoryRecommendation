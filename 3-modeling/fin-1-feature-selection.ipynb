{
 "cells": [
  {
   "cell_type": "code",
   "execution_count": 1,
   "metadata": {},
   "outputs": [],
   "source": [
    "import os, sys, warnings\n",
    "warnings.filterwarnings('ignore')\n",
    "from tqdm import tqdm_notebook as tqdm\n",
    "\n",
    "import pandas as pd\n",
    "import numpy as np\n",
    "from datetime import datetime as dt\n",
    "import re\n",
    "\n",
    "import lightgbm as lgb\n",
    "from catboost import Pool, CatBoostRegressor\n",
    "import xgboost as xgb\n",
    "from xgboost import XGBRegressor\n",
    "from sklearn.linear_model import ElasticNet\n",
    "from sklearn.linear_model import Lasso\n",
    "from sklearn.linear_model import Ridge\n",
    "from pygam import LinearGAM, s, f\n",
    "\n",
    "from sklearn.feature_selection import SelectFromModel\n",
    "from sklearn.model_selection import StratifiedShuffleSplit as SSsplit\n",
    "from sklearn.metrics import mean_squared_error as mse\n",
    "def rmse(pred, true) : return np.sqrt(mse(true, pred))\n",
    "\n",
    "import matplotlib.pyplot as plt\n",
    "import seaborn as sns"
   ]
  },
  {
   "cell_type": "markdown",
   "metadata": {},
   "source": [
    "## data preparing"
   ]
  },
  {
   "cell_type": "code",
   "execution_count": 2,
   "metadata": {},
   "outputs": [],
   "source": [
    "read_path = '../dataset/fin/'\n",
    "write_path = '../dataset/modelCols/'\n",
    "train = pd.read_csv(read_path+'train_fe.csv')\n",
    "test = pd.read_csv(read_path+'test_fe.csv')"
   ]
  },
  {
   "cell_type": "code",
   "execution_count": 3,
   "metadata": {
    "scrolled": true
   },
   "outputs": [
    {
     "data": {
      "application/vnd.jupyter.widget-view+json": {
       "model_id": "66e96e7764f74d489a989a381141b28b",
       "version_major": 2,
       "version_minor": 0
      },
      "text/plain": [
       "HBox(children=(IntProgress(value=0, max=54), HTML(value='')))"
      ]
     },
     "metadata": {},
     "output_type": "display_data"
    },
    {
     "name": "stdout",
     "output_type": "stream",
     "text": [
      "is it proper file name? : test_fe.csv\n",
      "is it proper file name? : train_fe.csv\n",
      "\n"
     ]
    }
   ],
   "source": [
    "files = os.listdir(read_path)\n",
    "newFiles = []\n",
    "histFiles = []\n",
    "transFiles = []\n",
    "isFile = re.compile(r'.*[.]csv')\n",
    "isNew = re.compile(r'.*_new[.]csv')\n",
    "isHist = re.compile(r'.*_hist[.]csv')\n",
    "isTrans = re.compile(r'.*_trans[.]csv')\n",
    "for file in tqdm(files):\n",
    "    if re.match(isFile, file):\n",
    "        locals()[file[:-4]] = pd.read_csv(read_path+file)\n",
    "        if re.match(isNew, file): newFiles.append(file[:-4])\n",
    "        elif re.match(isHist, file): histFiles.append(file[:-4])\n",
    "        elif re.match(isTrans, file): transFiles.append(file[:-4])\n",
    "        else : print('is it proper file name? : {}'.format(file))"
   ]
  },
  {
   "cell_type": "code",
   "execution_count": 4,
   "metadata": {},
   "outputs": [],
   "source": [
    "tempCols = ['merchant_try_'+col if col!='card_id' else col for col in locals()['mertry_trans'].columns.tolist()]\n",
    "locals()['mertry_trans'].columns = tempCols\n",
    "tempCols = ['merchant_visit_'+col if col!='card_id' else col for col in locals()['mervisit_trans'].columns.tolist()]\n",
    "locals()['mervisit_trans'].columns = tempCols"
   ]
  },
  {
   "cell_type": "code",
   "execution_count": 16,
   "metadata": {
    "scrolled": true
   },
   "outputs": [
    {
     "name": "stdout",
     "output_type": "stream",
     "text": [
      "is it proper merge? : (201917, 37) : mer_new\n"
     ]
    },
    {
     "data": {
      "application/vnd.jupyter.widget-view+json": {
       "model_id": "7ebc44b3ced6415cbcb89e60004d69e9",
       "version_major": 2,
       "version_minor": 0
      },
      "text/plain": [
       "HBox(children=(IntProgress(value=0, max=14), HTML(value='')))"
      ]
     },
     "metadata": {},
     "output_type": "display_data"
    }
   ],
   "source": [
    "train_new = train\n",
    "for file in tqdm(newFiles):\n",
    "    train_new = train_new.merge(locals()[file], how='left', on='card_id')\n",
    "    if train_new.shape[0] != train.shape[0] : raise WrongMergeError"
   ]
  },
  {
   "cell_type": "code",
   "execution_count": 5,
   "metadata": {},
   "outputs": [
    {
     "data": {
      "application/vnd.jupyter.widget-view+json": {
       "model_id": "d0053517ae2e4223b2e175edc89184f3",
       "version_major": 2,
       "version_minor": 0
      },
      "text/plain": [
       "HBox(children=(IntProgress(value=0, max=14), HTML(value='')))"
      ]
     },
     "metadata": {},
     "output_type": "display_data"
    },
    {
     "name": "stdout",
     "output_type": "stream",
     "text": [
      "\n"
     ]
    }
   ],
   "source": [
    "train_hist = train\n",
    "for file in tqdm(histFiles):\n",
    "    train_hist = train_hist.merge(locals()[file], how='left', on='card_id')\n",
    "    if train_hist.shape[0] != train.shape[0] : raise WrongMergeError"
   ]
  },
  {
   "cell_type": "code",
   "execution_count": 16,
   "metadata": {
    "scrolled": true
   },
   "outputs": [],
   "source": [
    "sm_feature_train_trans = sm_feature_train_trans[['card_id','Category3_A_rate','Category3_C_rate','pur_mer_sum','pur_mer_mean','trans_merchant']]\n",
    "sm_feature_test_trans = sm_feature_test_trans[['card_id','Category3_A_rate','Category3_C_rate','pur_mer_sum','pur_mer_mean','trans_merchant']]\n",
    "sm_feature_train_trans.to_csv('sm_train_trans.csv', index=False)\n",
    "sm_feature_test_trans.to_csv('sm_test_trans.csv', index=False)"
   ]
  },
  {
   "cell_type": "code",
   "execution_count": 24,
   "metadata": {},
   "outputs": [
    {
     "data": {
      "text/plain": [
       "['fe01_trans',\n",
       " 'fe02_trans',\n",
       " 'fe2_trans',\n",
       " 'merIdCnvrt_trans',\n",
       " 'mertry_trans',\n",
       " 'mervisit_trans',\n",
       " 'mer_trans',\n",
       " 'modeKey_trans',\n",
       " 'purchase_amount_by_ym_city_trans',\n",
       " 'purchase_amount_by_ym_merchant_trans',\n",
       " 'purchase_amount_by_ym_trans',\n",
       " 'regular_FE_trans',\n",
       " 'sm_test_trans',\n",
       " 'sm_train_trans',\n",
       " 'transaction_count_by_ym_trans',\n",
       " 'trans_count_by_ym_city_trans',\n",
       " 'trans_count_by_ym_merchant_trans']"
      ]
     },
     "execution_count": 24,
     "metadata": {},
     "output_type": "execute_result"
    }
   ],
   "source": [
    "transFiles"
   ]
  },
  {
   "cell_type": "code",
   "execution_count": 6,
   "metadata": {},
   "outputs": [
    {
     "data": {
      "application/vnd.jupyter.widget-view+json": {
       "model_id": "1b36f812f13347208271a796344a8afe",
       "version_major": 2,
       "version_minor": 0
      },
      "text/plain": [
       "HBox(children=(IntProgress(value=0, max=16), HTML(value='')))"
      ]
     },
     "metadata": {},
     "output_type": "display_data"
    },
    {
     "name": "stdout",
     "output_type": "stream",
     "text": [
      "\n"
     ]
    }
   ],
   "source": [
    "train_trans = train\n",
    "transFiles.remove('sm_test_trans',)\n",
    "for file in tqdm(transFiles):\n",
    "    train_trans = train_trans.merge(locals()[file], how='left', on='card_id')\n",
    "    if train_trans.shape[0] != train.shape[0] : print('it is wrong : {} : {}'.format(train_trans.shape, file))"
   ]
  },
  {
   "cell_type": "code",
   "execution_count": 51,
   "metadata": {},
   "outputs": [
    {
     "data": {
      "application/vnd.jupyter.widget-view+json": {
       "model_id": "fca67758e52e414e98e8fdd726460d99",
       "version_major": 2,
       "version_minor": 0
      },
      "text/plain": [
       "HBox(children=(IntProgress(value=0, max=16), HTML(value='')))"
      ]
     },
     "metadata": {},
     "output_type": "display_data"
    }
   ],
   "source": [
    "test_trans = test\n",
    "transFiles.append('sm_test_trans')\n",
    "transFiles.remove('sm_train_trans',)\n",
    "\n",
    "for file in tqdm(transFiles):\n",
    "    test_trans = test_trans.merge(locals()[file], how='left', on='card_id')\n",
    "    if test_trans.shape[0] != test.shape[0] : print('it is wrong : {} : {}'.format(test_trans.shape, file))"
   ]
  },
  {
   "cell_type": "code",
   "execution_count": 52,
   "metadata": {},
   "outputs": [],
   "source": [
    "test_trans[modelCols].to_csv('fin_test.csv', index=False)"
   ]
  },
  {
   "cell_type": "code",
   "execution_count": 53,
   "metadata": {
    "scrolled": true
   },
   "outputs": [],
   "source": [
    "train_trans[modelCols].to_csv('fin_train.csv', index=False)"
   ]
  },
  {
   "cell_type": "markdown",
   "metadata": {},
   "source": [
    "## CV Data"
   ]
  },
  {
   "cell_type": "code",
   "execution_count": 7,
   "metadata": {},
   "outputs": [],
   "source": [
    "modelCols = train_trans.columns.tolist()\n",
    "addSkew = ['purchase_day_skew',\n",
    "'purchase_hour_skew',\n",
    "'month_lag_skew',\n",
    "'purchase_date_total_day_skew',\n",
    "'month_diff_from_trade_skew',\n",
    "'month_diff_from_today_skew',\n",
    "'purchase_amount_skew',\n",
    "'purchase_amount_new_skew',\n",
    "'purchase_amount_trim_skew',]\n",
    "\n",
    "rmCols = ['card_id', 'first_active','target', 'outliers', 'purchase_date_max','purchase_date_min']\n",
    "isOutlier = re.compile(r'.*_outlier')\n",
    "isSkew = re.compile(r'.*_skew')\n",
    "\n",
    "catCols = ['first_active_dayofweek', ]\n",
    "isFeature = re.compile(r'feature_[\\d]')\n",
    "isModeKey = re.compile(r'.*_modeKey')\n",
    "isTop3Key = re.compile(r'.*_top3_key_mean')\n",
    "\n",
    "for col in modelCols:\n",
    "    if re.match(isSkew, col): rmCols.append(col)\n",
    "    elif re.match(isOutlier, col): rmCols.append(col)\n",
    "for col in rmCols:\n",
    "    modelCols.remove(col)\n",
    "modelCols += addSkew\n",
    "for col in modelCols:\n",
    "    if re.match(isFeature, col): catCols.append(col)\n",
    "    elif re.match(isModeKey, col): catCols.append(col)\n",
    "#     elif re.match(isTop3Key, col): catCols.append(col)\n",
    "catCols2 = []\n",
    "for col in catCols:\n",
    "    if train_trans[col].isna().sum()==0:\n",
    "        catCols2.append(modelCols.index(col))"
   ]
  },
  {
   "cell_type": "code",
   "execution_count": 8,
   "metadata": {},
   "outputs": [],
   "source": [
    "split_rate = test.shape[0]/(train.shape[0]+test.shape[0])\n",
    "split_y = train['outliers']\n",
    "SSspliter = SSsplit(3, split_rate)\n",
    "for i, (train_index, test_index) in enumerate(SSspliter.split(train, split_y)):\n",
    "    locals()['x_train_'+str(i)] = train_trans.iloc[train_index]\n",
    "    locals()['x_validate_'+str(i)] = train_trans.iloc[test_index]\n",
    "    locals()['y_train_'+str(i)] = train_trans['target'].iloc[train_index]\n",
    "    locals()['y_validate_'+str(i)] = train_trans['target'].iloc[test_index]"
   ]
  },
  {
   "cell_type": "code",
   "execution_count": 9,
   "metadata": {},
   "outputs": [],
   "source": [
    "modelCols = pd.read_csv(write_path+'trans_401.csv')['modelCols'].values.tolist()\n",
    "modelCols+=sm_test_trans.columns[1:].tolist()\n",
    "modelCols+=regular_FE_trans.columns[1:].tolist()\n",
    "\n",
    "catCols = list(set(modelCols)&set(catCols))\n",
    "catCols2 = []\n",
    "for col in catCols:\n",
    "    if train_trans[col].isna().sum()==0:\n",
    "        catCols2.append(modelCols.index(col))"
   ]
  },
  {
   "cell_type": "code",
   "execution_count": null,
   "metadata": {},
   "outputs": [],
   "source": []
  },
  {
   "cell_type": "markdown",
   "metadata": {},
   "source": [
    "## CV"
   ]
  },
  {
   "cell_type": "code",
   "execution_count": 10,
   "metadata": {},
   "outputs": [
    {
     "data": {
      "application/vnd.jupyter.widget-view+json": {
       "model_id": "9d55349daff1491b97b6611e0d4975f1",
       "version_major": 2,
       "version_minor": 0
      },
      "text/plain": [
       "HBox(children=(IntProgress(value=0, max=3), HTML(value='')))"
      ]
     },
     "metadata": {},
     "output_type": "display_data"
    },
    {
     "name": "stderr",
     "output_type": "stream",
     "text": [
      "C:\\anaconda3\\envs\\py37\\lib\\site-packages\\lightgbm\\engine.py:113: UserWarning: Found `num_iterations` in params. Will use it instead of argument\n",
      "  warnings.warn(\"Found `{}` in params. Will use it instead of argument\".format(alias))\n",
      "C:\\anaconda3\\envs\\py37\\lib\\site-packages\\lightgbm\\engine.py:113: UserWarning: Found `num_iterations` in params. Will use it instead of argument\n",
      "  warnings.warn(\"Found `{}` in params. Will use it instead of argument\".format(alias))\n",
      "C:\\anaconda3\\envs\\py37\\lib\\site-packages\\lightgbm\\engine.py:113: UserWarning: Found `num_iterations` in params. Will use it instead of argument\n",
      "  warnings.warn(\"Found `{}` in params. Will use it instead of argument\".format(alias))\n"
     ]
    },
    {
     "name": "stdout",
     "output_type": "stream",
     "text": [
      "\n"
     ]
    },
    {
     "ename": "NameError",
     "evalue": "name 'result' is not defined",
     "output_type": "error",
     "traceback": [
      "\u001b[1;31m---------------------------------------------------------------------------\u001b[0m",
      "\u001b[1;31mNameError\u001b[0m                                 Traceback (most recent call last)",
      "\u001b[1;32m<ipython-input-10-89b4be229e61>\u001b[0m in \u001b[0;36m<module>\u001b[1;34m\u001b[0m\n\u001b[0;32m     47\u001b[0m         \u001b[0mreport_cat\u001b[0m\u001b[1;33m[\u001b[0m\u001b[0mi\u001b[0m\u001b[1;33m]\u001b[0m \u001b[1;33m=\u001b[0m \u001b[0mreport\u001b[0m\u001b[1;33m\u001b[0m\u001b[1;33m\u001b[0m\u001b[0m\n\u001b[0;32m     48\u001b[0m \u001b[1;33m\u001b[0m\u001b[0m\n\u001b[1;32m---> 49\u001b[1;33m \u001b[0mcatCols2\u001b[0m \u001b[1;33m=\u001b[0m \u001b[0mresult\u001b[0m\u001b[1;33m(\u001b[0m\u001b[1;36m0.2\u001b[0m\u001b[1;33m)\u001b[0m\u001b[1;33m\u001b[0m\u001b[1;33m\u001b[0m\u001b[0m\n\u001b[0m\u001b[0;32m     50\u001b[0m \u001b[1;33m\u001b[0m\u001b[0m\n\u001b[0;32m     51\u001b[0m \u001b[0mreport_lgb\u001b[0m\u001b[1;33m[\u001b[0m\u001b[1;34m'mean'\u001b[0m\u001b[1;33m]\u001b[0m \u001b[1;33m=\u001b[0m \u001b[0mreport_lgb\u001b[0m\u001b[1;33m.\u001b[0m\u001b[0mapply\u001b[0m\u001b[1;33m(\u001b[0m\u001b[1;32mlambda\u001b[0m \u001b[0mx\u001b[0m \u001b[1;33m:\u001b[0m \u001b[0mx\u001b[0m\u001b[1;33m.\u001b[0m\u001b[0mmean\u001b[0m\u001b[1;33m(\u001b[0m\u001b[1;33m)\u001b[0m\u001b[1;33m,\u001b[0m \u001b[0maxis\u001b[0m\u001b[1;33m=\u001b[0m\u001b[1;36m1\u001b[0m\u001b[1;33m)\u001b[0m\u001b[1;33m\u001b[0m\u001b[1;33m\u001b[0m\u001b[0m\n",
      "\u001b[1;31mNameError\u001b[0m: name 'result' is not defined"
     ]
    }
   ],
   "source": [
    "\n",
    "report_lgb = pd.DataFrame(index=modelCols+['RMSE'])\n",
    "report_xgb = pd.DataFrame(index=modelCols+['RMSE'])\n",
    "report_cat = pd.DataFrame(index=modelCols+['RMSE'])\n",
    "for i in tqdm(range(3)):\n",
    "        x = locals()['x_train_'+str(i)][modelCols]\n",
    "        y = locals()['y_train_'+str(i)].values\n",
    "        x_ = locals()['x_validate_'+str(i)][modelCols]\n",
    "        y_ = locals()['y_validate_'+str(i)].values\n",
    "\n",
    "        params = {\n",
    "            'objective':'regression',\n",
    "            'metric':'l2',\n",
    "            'num_threads':8,\n",
    "            'num_iterations': 1000,\n",
    "        }\n",
    "        lgb_data = lgb.Dataset(x, label = y)\n",
    "        bst = lgb.train(params, lgb_data)\n",
    "        pred = bst.predict(x_)\n",
    "        score = rmse(pred, y_)\n",
    "        report = bst.feature_importance().tolist()\n",
    "        report.append(score)\n",
    "        report_lgb[i] = report\n",
    "\n",
    "\n",
    "        model = XGBRegressor(n_estimators=1000,n_jobs=8,)\n",
    "        model.fit(x, y)\n",
    "        pred = model.predict(x_)\n",
    "        score = rmse(pred, y_)\n",
    "        report = model.feature_importances_.tolist()\n",
    "        report.append(score)\n",
    "        report_xgb[i] = report\n",
    "\n",
    "\n",
    "        train_pool = Pool(x, y, cat_features=catCols2)\n",
    "        test_pool = Pool(x_, cat_features=catCols2) \n",
    "\n",
    "        model = CatBoostRegressor(iterations=1000,\n",
    "                                  learning_rate=0.01, \n",
    "                                  loss_function='RMSE',\n",
    "                                  thread_count = 8)\n",
    "        model.fit(train_pool, silent=True)\n",
    "        pred = model.predict(test_pool)\n",
    "        score = rmse(pred, y_)\n",
    "        report = model.get_feature_importance()\n",
    "        report.append(score)\n",
    "        report_cat[i] = report\n",
    "\n",
    "catCols2 = result(0.2)\n",
    "\n",
    "report_lgb['mean'] = report_lgb.apply(lambda x : x.mean(), axis=1)\n",
    "report_lgb = report_lgb.sort_values(by='mean', ascending=False)\n",
    "report_xgb['mean'] = report_xgb.apply(lambda x : x.mean(), axis=1)\n",
    "report_xgb = report_xgb.sort_values(by='mean', ascending=False)\n",
    "report_cat['mean'] = report_cat.apply(lambda x : x.mean(), axis=1)\n",
    "report_cat = report_cat.sort_values(by='mean', ascending=False)\n",
    "\n",
    "fig = plt.figure(figsize=(100,8))\n",
    "lgb_ax = plt.subplot(3, 1, 1)\n",
    "xgb_ax = plt.subplot(3, 1, 2)\n",
    "cat_ax = plt.subplot(3, 1, 3)\n",
    "sns.barplot(report_lgb.index, report_lgb['mean'], ax=lgb_ax)\n",
    "sns.barplot(report_xgb.index, report_xgb['mean'], ax=xgb_ax)\n",
    "sns.barplot(report_cat.index, report_cat['mean'], ax=cat_ax)\n",
    "plt.xticks(rotation='vertical')\n",
    "plt.show()"
   ]
  },
  {
   "cell_type": "code",
   "execution_count": 12,
   "metadata": {},
   "outputs": [],
   "source": [
    "modelCols2 = modelCols"
   ]
  },
  {
   "cell_type": "code",
   "execution_count": 17,
   "metadata": {},
   "outputs": [],
   "source": [
    "model = modelCols2"
   ]
  },
  {
   "cell_type": "code",
   "execution_count": 18,
   "metadata": {},
   "outputs": [
    {
     "name": "stdout",
     "output_type": "stream",
     "text": [
      "length of drop cols : 40\n",
      "['purchase_date_total_day_skew', 'trans_count_by_ym_merchant_card_rate_as_ym_var', 'hist_regular_nunique', 'trans_count_diff_by_ym_merchant_card_mean', 'pur_mer_sum', 'trans_count_by_ym_merchant_card_rate_as_merchant_max', 'hist_regular_min', 'trans_count_by_ym_merchant_card_rate_as_ym_mean', 'purchase_hour_skew', 'hist_regular_mode', 'trans_count_by_ym_merchant_card_rate_as_merchant_median', 'trans_count_by_ym_merchant_card_rate_as_ym_quantileRange', 'trans_count_by_ym_merchant_card_rate_as_merchant_var', 'trans_count_by_ym_merchant_card_rate_as_ym_merchant_quantileRange', 'RMSE', 'trans_count_diff_by_ym_merchant_card_min', 'month_diff_from_trade_skew', 'trans_count_by_ym_merchant_card_rate_as_ym_merchant_var', 'Category3_A_rate', 'trans_merchant', 'hist_regular_size', 'trans_count_by_ym_merchant_card_rate_as_ym_merchant_min', 'trans_count_diff_by_ym_merchant_card_var', 'trans_count_by_ym_merchant_card_rate_as_merchant_mean', 'trans_count_by_ym_merchant_card_rate_as_merchant_min', 'trans_count_by_ym_merchant_card_rate_as_ym_merchant_mean', 'hist_regular_sum', 'purchase_amount_skew', 'purchase_day_skew', 'trans_count_by_ym_merchant_card_rate_as_ym_merchant_median', 'month_diff_from_today_skew', 'month_lag_skew', 'trans_count_by_ym_merchant_card_rate_as_merchant_quantileRange', 'purchase_amount_new_skew', 'purchase_amount_trim_skew', 'hist_regular_mean', 'trans_count_diff_by_ym_merchant_card_max', 'Category3_C_rate', 'pur_mer_mean', 'hist_regular_max']\n"
     ]
    },
    {
     "ename": "ValueError",
     "evalue": "list.remove(x): x not in list",
     "output_type": "error",
     "traceback": [
      "\u001b[1;31m---------------------------------------------------------------------------\u001b[0m",
      "\u001b[1;31mValueError\u001b[0m                                Traceback (most recent call last)",
      "\u001b[1;32m<ipython-input-18-8108f3b8d590>\u001b[0m in \u001b[0;36m<module>\u001b[1;34m\u001b[0m\n\u001b[1;32m----> 1\u001b[1;33m \u001b[0mcatCols2\u001b[0m \u001b[1;33m=\u001b[0m \u001b[0mresult\u001b[0m\u001b[1;33m(\u001b[0m\u001b[1;36m0.1\u001b[0m\u001b[1;33m)\u001b[0m\u001b[1;33m\u001b[0m\u001b[1;33m\u001b[0m\u001b[0m\n\u001b[0m",
      "\u001b[1;32m<ipython-input-11-10d25060b98c>\u001b[0m in \u001b[0;36mresult\u001b[1;34m(cut_rate)\u001b[0m\n\u001b[0;32m      6\u001b[0m     \u001b[0mdropCols\u001b[0m \u001b[1;33m=\u001b[0m \u001b[0mlist\u001b[0m\u001b[1;33m(\u001b[0m\u001b[0mdropCols\u001b[0m\u001b[1;33m)\u001b[0m\u001b[1;33m\u001b[0m\u001b[1;33m\u001b[0m\u001b[0m\n\u001b[0;32m      7\u001b[0m     \u001b[0mprint\u001b[0m\u001b[1;33m(\u001b[0m\u001b[1;34m'length of drop cols : {}'\u001b[0m\u001b[1;33m.\u001b[0m\u001b[0mformat\u001b[0m\u001b[1;33m(\u001b[0m\u001b[0mlen\u001b[0m\u001b[1;33m(\u001b[0m\u001b[0mdropCols\u001b[0m\u001b[1;33m)\u001b[0m\u001b[1;33m)\u001b[0m\u001b[1;33m,\u001b[0m \u001b[0mdropCols\u001b[0m\u001b[1;33m,\u001b[0m \u001b[0msep\u001b[0m\u001b[1;33m=\u001b[0m\u001b[1;34m'\\n'\u001b[0m\u001b[1;33m)\u001b[0m\u001b[1;33m\u001b[0m\u001b[1;33m\u001b[0m\u001b[0m\n\u001b[1;32m----> 8\u001b[1;33m     \u001b[1;32mfor\u001b[0m \u001b[0mcol\u001b[0m \u001b[1;32min\u001b[0m \u001b[0mdropCols\u001b[0m\u001b[1;33m:\u001b[0m \u001b[0mmodelCols\u001b[0m\u001b[1;33m.\u001b[0m\u001b[0mremove\u001b[0m\u001b[1;33m(\u001b[0m\u001b[0mcol\u001b[0m\u001b[1;33m)\u001b[0m\u001b[1;33m\u001b[0m\u001b[1;33m\u001b[0m\u001b[0m\n\u001b[0m\u001b[0;32m      9\u001b[0m     \u001b[0mcatCols\u001b[0m \u001b[1;33m=\u001b[0m \u001b[0mlist\u001b[0m\u001b[1;33m(\u001b[0m\u001b[0mset\u001b[0m\u001b[1;33m(\u001b[0m\u001b[0mmodelCols\u001b[0m\u001b[1;33m)\u001b[0m\u001b[1;33m&\u001b[0m\u001b[0mset\u001b[0m\u001b[1;33m(\u001b[0m\u001b[0mcatCols\u001b[0m\u001b[1;33m)\u001b[0m\u001b[1;33m)\u001b[0m\u001b[1;33m\u001b[0m\u001b[1;33m\u001b[0m\u001b[0m\n\u001b[0;32m     10\u001b[0m     \u001b[0mcatCols2\u001b[0m \u001b[1;33m=\u001b[0m \u001b[1;33m[\u001b[0m\u001b[1;33m]\u001b[0m\u001b[1;33m\u001b[0m\u001b[1;33m\u001b[0m\u001b[0m\n",
      "\u001b[1;31mValueError\u001b[0m: list.remove(x): x not in list"
     ]
    }
   ],
   "source": [
    "catCols2 = result(0.1)"
   ]
  },
  {
   "cell_type": "markdown",
   "metadata": {},
   "source": [
    "## 1차 결과"
   ]
  },
  {
   "cell_type": "code",
   "execution_count": 11,
   "metadata": {},
   "outputs": [],
   "source": [
    "def result(cut_rate=.1):\n",
    "    global modelCols, catCols\n",
    "    per = cut_rate*len(modelCols)\n",
    "    per = int(per)\n",
    "    dropCols = set(report_lgb[-per:].index.tolist())&set(report_xgb[-per:].index.tolist())&set(report_cat[-per:].index.tolist())\n",
    "    dropCols = list(dropCols)\n",
    "    print('length of drop cols : {}'.format(len(dropCols)), dropCols, sep='\\n')\n",
    "    for col in dropCols: modelCols.remove(col)\n",
    "    catCols = list(set(modelCols)&set(catCols))\n",
    "    catCols2 = []\n",
    "    for col in catCols:\n",
    "        if train_trans[col].isna().sum()==0:\n",
    "            catCols2.append(modelCols.index(col))\n",
    "    print('length of model cols : {}'.format(len(modelCols)))\n",
    "    print('-'*10+'RMSE'+'-'*10)\n",
    "    print('''LGB : {}\n",
    "    XGB : {}\n",
    "    CAT : {}'''.format(report_lgb['mean']['RMSE'], report_xgb['mean']['RMSE'], report_cat['mean']['RMSE']))\n",
    "    colDF = pd.DataFrame({'modelCols' : modelCols})\n",
    "    colDF.to_csv(write_path+'trans_'+str(len(modelCols))+'.csv', index=False)\n",
    "    print('-'*10+'saved complete'+'-'*10)\n",
    "    return catCols2"
   ]
  },
  {
   "cell_type": "code",
   "execution_count": 11,
   "metadata": {},
   "outputs": [
    {
     "name": "stdout",
     "output_type": "stream",
     "text": [
      "19\n",
      "{'active_months_lag3_median', 'trans_count_diff_by_ym_merchant_card_quantileRange', 'active_months_lag6_max', 'first_active_elapsed_time_from_today', 'first_active_elapsed_time_from_trade', 'active_months_lag3_max', 'installments_null_cnt', 'purchase_year_min', 'trans_count_diff_by_ym_city_card_quantileRange', 'first_active_quarter', 'first_active_month', 'purchase_amount_diff_by_ym_merchant_card_quantileRange', 'trans_count_diff_by_ym_card_quantileRange', 'active_months_lag6_median', 'first_active_weekofyear', 'first_active_dayofweek', 'first_active_year', 'purchase_amount_diff_by_ym_city_card_quantileRange', 'purchase_amount_diff_by_ym_card_quantileRange'}\n"
     ]
    }
   ],
   "source": [
    "print(len(dropCols), dropCols, sep='\\n')"
   ]
  },
  {
   "cell_type": "markdown",
   "metadata": {},
   "source": [
    "## 2차 결과"
   ]
  },
  {
   "cell_type": "code",
   "execution_count": 22,
   "metadata": {},
   "outputs": [
    {
     "name": "stdout",
     "output_type": "stream",
     "text": [
      "23\n",
      "{'days_feature3_trade', 'purchase_year_mode', 'trans_count_by_ym_city_card_min', 'active_months_lag3_quantileRange', 'category_4_new_nunique', 'active_months_lag6_min', 'category_4_new_mode', 'category_1_new_mode', 'purchase_dayofweek_min', 'purchase_amount_over_550', 'trans_count_by_ym_merchant_card_min', 'purchase_weekend_mode', 'days_feature3_trade_ratio', 'active_months_lag12_median', 'merchant_try_min', 'most_recent_purchases_range_new_nunique', 'category_1_new_modeKey', 'installments_new_median', 'feature_min', 'active_months_lag12_max', 'active_months_lag3_min', 'category_2_new_modeKey', 'active_months_lag6_quantileRange'}\n"
     ]
    }
   ],
   "source": [
    "print(len(dropCols), dropCols, sep='\\n')"
   ]
  },
  {
   "cell_type": "code",
   "execution_count": 28,
   "metadata": {},
   "outputs": [
    {
     "data": {
      "text/plain": [
       "468"
      ]
     },
     "execution_count": 28,
     "metadata": {},
     "output_type": "execute_result"
    }
   ],
   "source": [
    "len(modelCols)"
   ]
  },
  {
   "cell_type": "markdown",
   "metadata": {},
   "source": [
    "## 3차 결과"
   ]
  },
  {
   "cell_type": "code",
   "execution_count": 32,
   "metadata": {},
   "outputs": [
    {
     "name": "stdout",
     "output_type": "stream",
     "text": [
      "11\n",
      "{'numerical_2_new_max', 'numerical_2_new_min', 'most_recent_purchases_range_new_mode', 'category_5_mode', 'most_recent_sales_range_new_mode', 'category_3_new_modeKey', 'most_recent_sales_range_new_nunique', 'installments_new_min', 'feature_max', 'category_2_new_mode', 'trans_count_by_merchant_ym_min'}\n"
     ]
    }
   ],
   "source": [
    "print(len(dropCols), dropCols, sep='\\n')"
   ]
  },
  {
   "cell_type": "code",
   "execution_count": 33,
   "metadata": {},
   "outputs": [
    {
     "data": {
      "text/plain": [
       "457"
      ]
     },
     "execution_count": 33,
     "metadata": {},
     "output_type": "execute_result"
    }
   ],
   "source": [
    "len(modelCols)"
   ]
  },
  {
   "cell_type": "markdown",
   "metadata": {},
   "source": [
    "## 4차 결과"
   ]
  },
  {
   "cell_type": "code",
   "execution_count": 37,
   "metadata": {},
   "outputs": [
    {
     "name": "stdout",
     "output_type": "stream",
     "text": [
      "4\n",
      "{'days_feature2_trade', 'installments_modeKey', 'trans_count_by_ym_city_card_rate_as_city_min', 'purchase_amount_trim_max'}\n"
     ]
    }
   ],
   "source": [
    "print(len(dropCols), dropCols, sep='\\n')"
   ]
  },
  {
   "cell_type": "code",
   "execution_count": 38,
   "metadata": {},
   "outputs": [
    {
     "data": {
      "text/plain": [
       "453"
      ]
     },
     "execution_count": 38,
     "metadata": {},
     "output_type": "execute_result"
    }
   ],
   "source": [
    "len(modelCols)"
   ]
  },
  {
   "cell_type": "markdown",
   "metadata": {},
   "source": [
    "## 5차 결과"
   ]
  },
  {
   "cell_type": "code",
   "execution_count": 46,
   "metadata": {
    "scrolled": false
   },
   "outputs": [
    {
     "name": "stdout",
     "output_type": "stream",
     "text": [
      "length of drop cols : 13\n",
      "['category_5_nunique', 'purchase_hour_max', 'category_2_new_nunique', 'category_3_new_nunique', 'purchase_dayofweek_max', 'category_3_new_mode', 'trans_count_by_ym_merchant_card_rate_as_ym_merchant_max', 'installments_median', 'purchase_month_min', 'state_id_modeKey', 'active_months_lag3_mean', 'feature_mean', 'trans_count_by_ym_card_max']\n",
      "length of model cols : 440\n"
     ]
    }
   ],
   "source": [
    "modelCols = result(modelCols, 0.15)"
   ]
  },
  {
   "cell_type": "markdown",
   "metadata": {},
   "source": [
    "## 6차 결과"
   ]
  },
  {
   "cell_type": "code",
   "execution_count": 59,
   "metadata": {},
   "outputs": [
    {
     "name": "stdout",
     "output_type": "stream",
     "text": [
      "length of drop cols : 18\n",
      "['avg_purchases_lag3_max', 'days_feature2_trade_ratio', 'numerical_2_new_sum', 'avg_sales_lag6_max', 'avg_purchases_lag6_max', 'trans_count_by_ym_city_card_median', 'trans_count_by_ym_merchant_card_quantileRange', 'purchase_amount_new_var', 'purchase_day_nunique', 'trans_count_by_ym_merchant_card_median', 'numerical_1_new_min', 'trans_count_diff_by_ym_merchant_card_median', 'city_id_modeKey', 'merchant_visit_mode', 'purchase_amount_new_max', 'purchase_dayofweek_nunique', 'merchant_try_mode', 'purchase_month_max']\n",
      "length of model cols : 422\n"
     ]
    },
    {
     "ename": "NameError",
     "evalue": "name 'catCol2' is not defined",
     "output_type": "error",
     "traceback": [
      "\u001b[1;31m---------------------------------------------------------------------------\u001b[0m",
      "\u001b[1;31mNameError\u001b[0m                                 Traceback (most recent call last)",
      "\u001b[1;32m<ipython-input-59-9324d7ab7b1b>\u001b[0m in \u001b[0;36m<module>\u001b[1;34m\u001b[0m\n\u001b[1;32m----> 1\u001b[1;33m \u001b[0mcatCols2\u001b[0m \u001b[1;33m=\u001b[0m \u001b[0mresult\u001b[0m\u001b[1;33m(\u001b[0m\u001b[1;36m0.2\u001b[0m\u001b[1;33m)\u001b[0m\u001b[1;33m\u001b[0m\u001b[1;33m\u001b[0m\u001b[0m\n\u001b[0m",
      "\u001b[1;32m<ipython-input-58-e9aa021e0299>\u001b[0m in \u001b[0;36mresult\u001b[1;34m(per)\u001b[0m\n\u001b[0;32m     18\u001b[0m     \u001b[0mcolDF\u001b[0m \u001b[1;33m=\u001b[0m \u001b[0mpd\u001b[0m\u001b[1;33m.\u001b[0m\u001b[0mDataFrame\u001b[0m\u001b[1;33m(\u001b[0m\u001b[1;33m{\u001b[0m\u001b[1;34m'modelCols'\u001b[0m \u001b[1;33m:\u001b[0m \u001b[0mmodelCols\u001b[0m\u001b[1;33m}\u001b[0m\u001b[1;33m)\u001b[0m\u001b[1;33m\u001b[0m\u001b[1;33m\u001b[0m\u001b[0m\n\u001b[0;32m     19\u001b[0m     \u001b[0mcolDF\u001b[0m\u001b[1;33m.\u001b[0m\u001b[0mto_csv\u001b[0m\u001b[1;33m(\u001b[0m\u001b[0mwrite_path\u001b[0m\u001b[1;33m+\u001b[0m\u001b[1;34m'trans_'\u001b[0m\u001b[1;33m+\u001b[0m\u001b[0mstr\u001b[0m\u001b[1;33m(\u001b[0m\u001b[0mlen\u001b[0m\u001b[1;33m(\u001b[0m\u001b[0mmodelCols\u001b[0m\u001b[1;33m)\u001b[0m\u001b[1;33m)\u001b[0m\u001b[1;33m+\u001b[0m\u001b[1;34m'.csv'\u001b[0m\u001b[1;33m,\u001b[0m \u001b[0mindex\u001b[0m\u001b[1;33m=\u001b[0m\u001b[1;32mFalse\u001b[0m\u001b[1;33m)\u001b[0m\u001b[1;33m\u001b[0m\u001b[1;33m\u001b[0m\u001b[0m\n\u001b[1;32m---> 20\u001b[1;33m     \u001b[1;32mreturn\u001b[0m \u001b[0mcatCol2\u001b[0m\u001b[1;33m\u001b[0m\u001b[1;33m\u001b[0m\u001b[0m\n\u001b[0m",
      "\u001b[1;31mNameError\u001b[0m: name 'catCol2' is not defined"
     ]
    }
   ],
   "source": [
    "catCols2 = result(0.2)"
   ]
  },
  {
   "cell_type": "markdown",
   "metadata": {},
   "source": [
    "## 7차 결과"
   ]
  },
  {
   "cell_type": "code",
   "execution_count": null,
   "metadata": {},
   "outputs": [],
   "source": [
    "catCols2 = result(0.2)"
   ]
  },
  {
   "cell_type": "markdown",
   "metadata": {},
   "source": [
    "## 8차 결과"
   ]
  },
  {
   "cell_type": "code",
   "execution_count": 70,
   "metadata": {},
   "outputs": [
    {
     "name": "stdout",
     "output_type": "stream",
     "text": [
      "length of drop cols : 9\n",
      "['purchase_dayofweek_mode', 'trans_count_diff_by_ym_card_min', 'trans_count_by_city_ym_rate_median', 'trans_count_by_city_ym_rate_mean', 'trans_count_by_merchant_ym_rate_max', 'trans_count_by_ym_city_card_rate_as_city_var', 'avg_purchases_lag6_var', 'trans_count_by_city_ym_max', 'numerical_2_new_mean']\n",
      "length of model cols : 401\n",
      "---saved complete---\n"
     ]
    }
   ],
   "source": [
    "catCols2 = result(0.2)"
   ]
  },
  {
   "cell_type": "markdown",
   "metadata": {},
   "source": [
    "## Reg"
   ]
  },
  {
   "cell_type": "code",
   "execution_count": 116,
   "metadata": {
    "scrolled": true
   },
   "outputs": [
    {
     "data": {
      "application/vnd.jupyter.widget-view+json": {
       "model_id": "1a1dc27552e5483a91b458bd6d103ec9",
       "version_major": 2,
       "version_minor": 0
      },
      "text/plain": [
       "HBox(children=(IntProgress(value=0, max=5), HTML(value='')))"
      ]
     },
     "metadata": {},
     "output_type": "display_data"
    },
    {
     "name": "stdout",
     "output_type": "stream",
     "text": [
      "1e-05\n",
      "1.0000000000000002e-06\n",
      "1.0000000000000002e-07\n",
      "1.0000000000000004e-08\n",
      "1.0000000000000005e-09\n",
      "1.0000000000000006e-10\n",
      "1.0000000000000006e-11\n",
      "1.0000000000000006e-12\n",
      "1.0000000000000007e-13\n",
      "1.0000000000000008e-14\n",
      "1.0000000000000009e-15\n",
      "1.000000000000001e-16\n",
      "1.000000000000001e-17\n",
      "1.000000000000001e-18\n",
      "1.000000000000001e-19\n",
      "1.0000000000000011e-20\n",
      "1.0000000000000012e-21\n",
      "1.0000000000000012e-22\n",
      "1.0000000000000013e-23\n",
      "1.0000000000000014e-24\n",
      "1.0000000000000014e-25\n",
      "1.0000000000000015e-26\n",
      "1.0000000000000015e-27\n",
      "1.0000000000000015e-28\n",
      "1.0000000000000016e-29\n",
      "1.0000000000000017e-30\n",
      "1.0000000000000016e-31\n",
      "1.0000000000000017e-32\n",
      "1.0000000000000018e-33\n",
      "1.0000000000000019e-34\n",
      "1.0000000000000019e-35\n",
      "1.000000000000002e-36\n",
      "1.000000000000002e-37\n",
      "1.000000000000002e-38\n",
      "1.000000000000002e-39\n",
      "1.0000000000000022e-40\n",
      "1.0000000000000022e-41\n",
      "1.0000000000000023e-42\n",
      "1.0000000000000023e-43\n",
      "1.0000000000000023e-44\n",
      "1.0000000000000023e-45\n",
      "1.0000000000000024e-46\n",
      "1.0000000000000024e-47\n",
      "1.0000000000000024e-48\n",
      "1.0000000000000024e-49\n",
      "1.0000000000000025e-50\n",
      "1.0000000000000025e-51\n",
      "1.0000000000000026e-52\n",
      "1.0000000000000027e-53\n",
      "1.0000000000000028e-54\n",
      "1.0000000000000029e-55\n",
      "1.000000000000003e-56\n",
      "1.000000000000003e-57\n",
      "1.0000000000000032e-58\n",
      "1.0000000000000033e-59\n",
      "1.0000000000000034e-60\n",
      "1.0000000000000035e-61\n",
      "1.0000000000000035e-62\n",
      "1.0000000000000036e-63\n",
      "1.0000000000000037e-64\n",
      "1.0000000000000037e-65\n",
      "1.0000000000000038e-66\n",
      "1.0000000000000039e-67\n",
      "1.000000000000004e-68\n",
      "1.0000000000000041e-69\n",
      "1.0000000000000042e-70\n",
      "1.0000000000000041e-71\n",
      "1.0000000000000042e-72\n",
      "1.0000000000000042e-73\n",
      "1.0000000000000043e-74\n",
      "1.0000000000000044e-75\n",
      "1.0000000000000044e-76\n",
      "1.0000000000000043e-77\n",
      "1.0000000000000044e-78\n",
      "1.0000000000000045e-79\n",
      "1.0000000000000045e-80\n",
      "1.0000000000000045e-81\n",
      "1.0000000000000046e-82\n",
      "1.0000000000000048e-83\n",
      "1.0000000000000048e-84\n",
      "1.0000000000000048e-85\n",
      "1.0000000000000049e-86\n",
      "1.0000000000000049e-87\n",
      "1.000000000000005e-88\n",
      "1.0000000000000051e-89\n",
      "1.0000000000000052e-90\n",
      "1.0000000000000053e-91\n",
      "1.0000000000000054e-92\n",
      "1.0000000000000054e-93\n",
      "1.0000000000000055e-94\n",
      "1.0000000000000056e-95\n",
      "1.0000000000000057e-96\n",
      "1.0000000000000058e-97\n",
      "1.0000000000000058e-98\n",
      "1.000000000000006e-99\n",
      "1.000000000000006e-100\n",
      "1.0000000000000061e-101\n",
      "1.000000000000006e-102\n",
      "1.0000000000000062e-103\n",
      "1.0000000000000063e-104\n",
      "1.0000000000000064e-105\n",
      "1.0000000000000064e-106\n",
      "1.0000000000000064e-107\n",
      "1.0000000000000065e-108\n",
      "1.0000000000000065e-109\n",
      "1.0000000000000066e-110\n",
      "1.0000000000000066e-111\n",
      "1.0000000000000066e-112\n",
      "1.0000000000000068e-113\n",
      "1.0000000000000069e-114\n",
      "1.0000000000000069e-115\n",
      "1.000000000000007e-116\n",
      "1.000000000000007e-117\n",
      "1.000000000000007e-118\n",
      "1.000000000000007e-119\n",
      "1.000000000000007e-120\n",
      "1.000000000000007e-121\n",
      "1.0000000000000072e-122\n",
      "1.0000000000000073e-123\n",
      "1.0000000000000073e-124\n",
      "1.0000000000000074e-125\n",
      "1.0000000000000075e-126\n",
      "1.0000000000000076e-127\n",
      "1.0000000000000076e-128\n",
      "1.0000000000000076e-129\n",
      "1.0000000000000077e-130\n",
      "1.0000000000000077e-131\n",
      "1.0000000000000078e-132\n",
      "1.0000000000000079e-133\n",
      "1.000000000000008e-134\n",
      "1.000000000000008e-135\n",
      "1.000000000000008e-136\n",
      "1.0000000000000081e-137\n",
      "1.0000000000000081e-138\n",
      "1.0000000000000082e-139\n",
      "1.0000000000000083e-140\n",
      "1.0000000000000083e-141\n",
      "1.0000000000000084e-142\n",
      "1.0000000000000085e-143\n",
      "1.0000000000000085e-144\n",
      "1.0000000000000086e-145\n",
      "1.0000000000000087e-146\n",
      "1.0000000000000087e-147\n",
      "1.0000000000000088e-148\n",
      "1.0000000000000089e-149\n",
      "1.000000000000009e-150\n",
      "1.0000000000000091e-151\n",
      "1.0000000000000092e-152\n",
      "1.0000000000000092e-153\n",
      "1.0000000000000092e-154\n",
      "1.0000000000000093e-155\n",
      "1.0000000000000094e-156\n",
      "1.0000000000000095e-157\n",
      "1.0000000000000096e-158\n",
      "1.0000000000000096e-159\n",
      "1.0000000000000096e-160\n",
      "1.0000000000000097e-161\n",
      "1.0000000000000097e-162\n",
      "1.0000000000000098e-163\n",
      "1.0000000000000098e-164\n",
      "1.0000000000000099e-165\n",
      "1.00000000000001e-166\n",
      "1.00000000000001e-167\n",
      "1.00000000000001e-168\n",
      "1.0000000000000102e-169\n",
      "1.0000000000000103e-170\n",
      "1.0000000000000103e-171\n",
      "1.0000000000000104e-172\n",
      "1.0000000000000105e-173\n",
      "1.0000000000000105e-174\n",
      "1.0000000000000107e-175\n",
      "1.0000000000000107e-176\n",
      "1.0000000000000107e-177\n",
      "1.0000000000000108e-178\n",
      "1.0000000000000108e-179\n",
      "1.000000000000011e-180\n",
      "1.000000000000011e-181\n",
      "1.0000000000000111e-182\n",
      "1.000000000000011e-183\n",
      "1.0000000000000112e-184\n",
      "1.0000000000000113e-185\n",
      "1.0000000000000113e-186\n",
      "1.0000000000000114e-187\n",
      "1.0000000000000114e-188\n",
      "1.0000000000000114e-189\n",
      "1.0000000000000115e-190\n",
      "1.0000000000000115e-191\n",
      "1.0000000000000116e-192\n",
      "1.0000000000000116e-193\n",
      "1.0000000000000117e-194\n",
      "1.0000000000000117e-195\n",
      "1.0000000000000117e-196\n",
      "1.0000000000000117e-197\n",
      "1.0000000000000118e-198\n",
      "1.0000000000000118e-199\n",
      "1.0000000000000119e-200\n",
      "1.000000000000012e-201\n",
      "1.0000000000000119e-202\n",
      "1.000000000000012e-203\n",
      "1.000000000000012e-204\n",
      "1.0000000000000122e-205\n",
      "1.0000000000000122e-206\n",
      "1.0000000000000122e-207\n",
      "1.0000000000000122e-208\n",
      "1.0000000000000122e-209\n",
      "1.0000000000000122e-210\n",
      "1.0000000000000123e-211\n",
      "1.0000000000000124e-212\n",
      "1.0000000000000125e-213\n",
      "1.0000000000000125e-214\n",
      "1.0000000000000125e-215\n",
      "1.0000000000000126e-216\n",
      "1.0000000000000126e-217\n",
      "1.0000000000000126e-218\n",
      "1.0000000000000126e-219\n",
      "1.0000000000000126e-220\n",
      "1.0000000000000127e-221\n",
      "1.0000000000000128e-222\n",
      "1.0000000000000128e-223\n",
      "1.0000000000000129e-224\n",
      "1.0000000000000129e-225\n",
      "1.0000000000000129e-226\n",
      "1.000000000000013e-227\n",
      "1.000000000000013e-228\n",
      "1.000000000000013e-229\n",
      "1.0000000000000131e-230\n",
      "1.0000000000000131e-231\n",
      "1.0000000000000133e-232\n",
      "1.0000000000000133e-233\n",
      "1.0000000000000134e-234\n",
      "1.0000000000000134e-235\n",
      "1.0000000000000134e-236\n",
      "1.0000000000000134e-237\n",
      "1.0000000000000135e-238\n",
      "1.0000000000000135e-239\n",
      "1.0000000000000136e-240\n",
      "1.0000000000000136e-241\n",
      "1.0000000000000137e-242\n",
      "1.0000000000000138e-243\n",
      "1.0000000000000139e-244\n",
      "1.000000000000014e-245\n",
      "1.000000000000014e-246\n",
      "1.0000000000000142e-247\n",
      "1.0000000000000143e-248\n",
      "1.0000000000000143e-249\n",
      "1.0000000000000143e-250\n",
      "1.0000000000000144e-251\n",
      "1.0000000000000144e-252\n",
      "1.0000000000000144e-253\n",
      "1.0000000000000145e-254\n",
      "1.0000000000000146e-255\n",
      "1.0000000000000146e-256\n",
      "1.0000000000000148e-257\n",
      "1.0000000000000149e-258\n",
      "1.000000000000015e-259\n",
      "1.000000000000015e-260\n",
      "1.000000000000015e-261\n",
      "1.0000000000000151e-262\n",
      "1.0000000000000152e-263\n",
      "1.0000000000000152e-264\n",
      "1.0000000000000153e-265\n",
      "1.0000000000000153e-266\n",
      "1.0000000000000153e-267\n",
      "1.0000000000000153e-268\n",
      "1.0000000000000154e-269\n",
      "1.0000000000000154e-270\n",
      "1.0000000000000155e-271\n",
      "1.0000000000000155e-272\n",
      "1.0000000000000155e-273\n",
      "1.0000000000000155e-274\n",
      "1.0000000000000155e-275\n",
      "1.0000000000000155e-276\n",
      "1.0000000000000156e-277\n",
      "1.0000000000000158e-278\n",
      "1.0000000000000157e-279\n",
      "1.0000000000000157e-280\n",
      "1.0000000000000158e-281\n",
      "1.0000000000000159e-282\n",
      "1.000000000000016e-283\n",
      "1.000000000000016e-284\n",
      "1.0000000000000161e-285\n",
      "1.0000000000000161e-286\n",
      "1.0000000000000162e-287\n",
      "1.0000000000000163e-288\n",
      "1.0000000000000163e-289\n",
      "1.0000000000000163e-290\n",
      "1.0000000000000163e-291\n",
      "1.0000000000000164e-292\n",
      "1.0000000000000165e-293\n",
      "1.0000000000000165e-294\n",
      "1.0000000000000166e-295\n",
      "1.0000000000000166e-296\n",
      "1.0000000000000167e-297\n",
      "1.0000000000000167e-298\n",
      "1.0000000000000167e-299\n",
      "1.0000000000000168e-300\n",
      "1.0000000000000169e-301\n",
      "1.0000000000000169e-302\n",
      "1.000000000000017e-303\n",
      "1.000000000000017e-304\n",
      "1.0000000000000171e-305\n",
      "1.0000000000000171e-306\n",
      "1.0000000000000171e-307\n",
      "1.000000000000017e-308\n",
      "1.000000000000017e-309\n",
      "1e-310\n",
      "1e-311\n",
      "1e-312\n",
      "1e-313\n",
      "1e-314\n",
      "1e-315\n",
      "1e-316\n",
      "1e-317\n",
      "1e-318\n",
      "1e-319\n",
      "1e-320\n",
      "1e-321\n",
      "1e-322\n",
      "1e-323\n",
      "0.0\n",
      "0.0\n",
      "0.0\n",
      "0.0\n",
      "0.0\n",
      "0.0\n",
      "0.0\n",
      "0.0\n",
      "0.0\n",
      "0.0\n",
      "0.0\n",
      "0.0\n",
      "0.0\n",
      "0.0\n",
      "0.0\n",
      "0.0\n",
      "0.0\n",
      "0.0\n",
      "0.0\n",
      "0.0\n",
      "0.0\n",
      "0.0\n",
      "0.0\n",
      "0.0\n",
      "0.0\n",
      "0.0\n",
      "0.0\n",
      "0.0\n",
      "0.0\n",
      "0.0\n",
      "0.0\n",
      "0.0\n",
      "0.0\n",
      "0.0\n",
      "0.0\n",
      "0.0\n",
      "0.0\n",
      "0.0\n",
      "0.0\n",
      "0.0\n",
      "0.0\n",
      "0.0\n",
      "0.0\n",
      "0.0\n",
      "0.0\n",
      "0.0\n",
      "0.0\n",
      "0.0\n",
      "0.0\n",
      "0.0\n",
      "0.0\n",
      "0.0\n",
      "0.0\n",
      "0.0\n",
      "0.0\n",
      "0.0\n",
      "0.0\n",
      "0.0\n",
      "0.0\n",
      "0.0\n",
      "0.0\n",
      "0.0\n",
      "0.0\n"
     ]
    },
    {
     "ename": "KeyboardInterrupt",
     "evalue": "",
     "output_type": "error",
     "traceback": [
      "\u001b[1;31m---------------------------------------------------------------------------\u001b[0m",
      "\u001b[1;31mKeyboardInterrupt\u001b[0m                         Traceback (most recent call last)",
      "\u001b[1;32m<ipython-input-116-4d691cbb3a8a>\u001b[0m in \u001b[0;36m<module>\u001b[1;34m\u001b[0m\n\u001b[0;32m     12\u001b[0m         \u001b[0mprint\u001b[0m\u001b[1;33m(\u001b[0m\u001b[0mthreshold\u001b[0m\u001b[1;33m)\u001b[0m\u001b[1;33m\u001b[0m\u001b[1;33m\u001b[0m\u001b[0m\n\u001b[0;32m     13\u001b[0m         \u001b[0mmodel2\u001b[0m \u001b[1;33m=\u001b[0m \u001b[0mSelectFromModel\u001b[0m\u001b[1;33m(\u001b[0m\u001b[0mmodel\u001b[0m\u001b[1;33m,\u001b[0m \u001b[0mthreshold\u001b[0m\u001b[1;33m=\u001b[0m\u001b[0mthreshold\u001b[0m\u001b[1;33m)\u001b[0m\u001b[1;33m\u001b[0m\u001b[1;33m\u001b[0m\u001b[0m\n\u001b[1;32m---> 14\u001b[1;33m         \u001b[0mmodel2\u001b[0m\u001b[1;33m.\u001b[0m\u001b[0mfit\u001b[0m\u001b[1;33m(\u001b[0m\u001b[0mx\u001b[0m\u001b[1;33m,\u001b[0m\u001b[0my\u001b[0m\u001b[1;33m)\u001b[0m\u001b[1;33m\u001b[0m\u001b[1;33m\u001b[0m\u001b[0m\n\u001b[0m\u001b[0;32m     15\u001b[0m         \u001b[0mtemp\u001b[0m \u001b[1;33m=\u001b[0m \u001b[0mmodel2\u001b[0m\u001b[1;33m.\u001b[0m\u001b[0mget_support\u001b[0m\u001b[1;33m(\u001b[0m\u001b[1;33m)\u001b[0m\u001b[1;33m.\u001b[0m\u001b[0msum\u001b[0m\u001b[1;33m(\u001b[0m\u001b[1;33m)\u001b[0m\u001b[1;33m\u001b[0m\u001b[1;33m\u001b[0m\u001b[0m\n\u001b[0;32m     16\u001b[0m         \u001b[1;32mif\u001b[0m \u001b[0mtemp\u001b[0m \u001b[1;33m>\u001b[0m \u001b[0mleng\u001b[0m\u001b[1;33m*\u001b[0m\u001b[1;36m0.95\u001b[0m \u001b[1;33m:\u001b[0m \u001b[0mthreshold\u001b[0m \u001b[1;33m*=\u001b[0m \u001b[1;36m10\u001b[0m\u001b[1;33m\u001b[0m\u001b[1;33m\u001b[0m\u001b[0m\n",
      "\u001b[1;32mC:\\anaconda3\\envs\\py37\\lib\\site-packages\\sklearn\\feature_selection\\from_model.py\u001b[0m in \u001b[0;36mfit\u001b[1;34m(self, X, y, **fit_params)\u001b[0m\n\u001b[0;32m    195\u001b[0m                 \"Since 'prefit=True', call transform directly\")\n\u001b[0;32m    196\u001b[0m         \u001b[0mself\u001b[0m\u001b[1;33m.\u001b[0m\u001b[0mestimator_\u001b[0m \u001b[1;33m=\u001b[0m \u001b[0mclone\u001b[0m\u001b[1;33m(\u001b[0m\u001b[0mself\u001b[0m\u001b[1;33m.\u001b[0m\u001b[0mestimator\u001b[0m\u001b[1;33m)\u001b[0m\u001b[1;33m\u001b[0m\u001b[1;33m\u001b[0m\u001b[0m\n\u001b[1;32m--> 197\u001b[1;33m         \u001b[0mself\u001b[0m\u001b[1;33m.\u001b[0m\u001b[0mestimator_\u001b[0m\u001b[1;33m.\u001b[0m\u001b[0mfit\u001b[0m\u001b[1;33m(\u001b[0m\u001b[0mX\u001b[0m\u001b[1;33m,\u001b[0m \u001b[0my\u001b[0m\u001b[1;33m,\u001b[0m \u001b[1;33m**\u001b[0m\u001b[0mfit_params\u001b[0m\u001b[1;33m)\u001b[0m\u001b[1;33m\u001b[0m\u001b[1;33m\u001b[0m\u001b[0m\n\u001b[0m\u001b[0;32m    198\u001b[0m         \u001b[1;32mreturn\u001b[0m \u001b[0mself\u001b[0m\u001b[1;33m\u001b[0m\u001b[1;33m\u001b[0m\u001b[0m\n\u001b[0;32m    199\u001b[0m \u001b[1;33m\u001b[0m\u001b[0m\n",
      "\u001b[1;32mC:\\anaconda3\\envs\\py37\\lib\\site-packages\\sklearn\\linear_model\\coordinate_descent.py\u001b[0m in \u001b[0;36mfit\u001b[1;34m(self, X, y, check_input)\u001b[0m\n\u001b[0;32m    760\u001b[0m                           \u001b[0mrandom_state\u001b[0m\u001b[1;33m=\u001b[0m\u001b[0mself\u001b[0m\u001b[1;33m.\u001b[0m\u001b[0mrandom_state\u001b[0m\u001b[1;33m,\u001b[0m\u001b[1;33m\u001b[0m\u001b[1;33m\u001b[0m\u001b[0m\n\u001b[0;32m    761\u001b[0m                           \u001b[0mselection\u001b[0m\u001b[1;33m=\u001b[0m\u001b[0mself\u001b[0m\u001b[1;33m.\u001b[0m\u001b[0mselection\u001b[0m\u001b[1;33m,\u001b[0m\u001b[1;33m\u001b[0m\u001b[1;33m\u001b[0m\u001b[0m\n\u001b[1;32m--> 762\u001b[1;33m                           check_input=False)\n\u001b[0m\u001b[0;32m    763\u001b[0m             \u001b[0mcoef_\u001b[0m\u001b[1;33m[\u001b[0m\u001b[0mk\u001b[0m\u001b[1;33m]\u001b[0m \u001b[1;33m=\u001b[0m \u001b[0mthis_coef\u001b[0m\u001b[1;33m[\u001b[0m\u001b[1;33m:\u001b[0m\u001b[1;33m,\u001b[0m \u001b[1;36m0\u001b[0m\u001b[1;33m]\u001b[0m\u001b[1;33m\u001b[0m\u001b[1;33m\u001b[0m\u001b[0m\n\u001b[0;32m    764\u001b[0m             \u001b[0mdual_gaps_\u001b[0m\u001b[1;33m[\u001b[0m\u001b[0mk\u001b[0m\u001b[1;33m]\u001b[0m \u001b[1;33m=\u001b[0m \u001b[0mthis_dual_gap\u001b[0m\u001b[1;33m[\u001b[0m\u001b[1;36m0\u001b[0m\u001b[1;33m]\u001b[0m\u001b[1;33m\u001b[0m\u001b[1;33m\u001b[0m\u001b[0m\n",
      "\u001b[1;32mC:\\anaconda3\\envs\\py37\\lib\\site-packages\\sklearn\\linear_model\\coordinate_descent.py\u001b[0m in \u001b[0;36menet_path\u001b[1;34m(X, y, l1_ratio, eps, n_alphas, alphas, precompute, Xy, copy_X, coef_init, verbose, return_n_iter, positive, check_input, **params)\u001b[0m\n\u001b[0;32m    476\u001b[0m             model = cd_fast.enet_coordinate_descent(\n\u001b[0;32m    477\u001b[0m                 \u001b[0mcoef_\u001b[0m\u001b[1;33m,\u001b[0m \u001b[0ml1_reg\u001b[0m\u001b[1;33m,\u001b[0m \u001b[0ml2_reg\u001b[0m\u001b[1;33m,\u001b[0m \u001b[0mX\u001b[0m\u001b[1;33m,\u001b[0m \u001b[0my\u001b[0m\u001b[1;33m,\u001b[0m \u001b[0mmax_iter\u001b[0m\u001b[1;33m,\u001b[0m \u001b[0mtol\u001b[0m\u001b[1;33m,\u001b[0m \u001b[0mrng\u001b[0m\u001b[1;33m,\u001b[0m \u001b[0mrandom\u001b[0m\u001b[1;33m,\u001b[0m\u001b[1;33m\u001b[0m\u001b[1;33m\u001b[0m\u001b[0m\n\u001b[1;32m--> 478\u001b[1;33m                 positive)\n\u001b[0m\u001b[0;32m    479\u001b[0m         \u001b[1;32melse\u001b[0m\u001b[1;33m:\u001b[0m\u001b[1;33m\u001b[0m\u001b[1;33m\u001b[0m\u001b[0m\n\u001b[0;32m    480\u001b[0m             raise ValueError(\"Precompute should be one of True, False, \"\n",
      "\u001b[1;31mKeyboardInterrupt\u001b[0m: "
     ]
    }
   ],
   "source": [
    "## 5차 결과\n",
    "\n",
    "modelCols = result(modelCols, 0.15)report_elastic = pd.DataFrame(index=modelCols)\n",
    "leng = len(modelCols)\n",
    "threshold = 1.0e-5\n",
    "for i in tqdm(range(5)):\n",
    "    x = locals()['x_train_'+str(i)]\n",
    "    y = locals()['y_train_'+str(i)].values\n",
    "    x_ = locals()['x_validate_'+str(i)]\n",
    "    y_ = locals()['y_validate_'+str(i)].values\n",
    "\n",
    "    model = ElasticNet()\n",
    "    while 1 :\n",
    "        print(threshold)\n",
    "        model2 = SelectFromModel(model, threshold=threshold)\n",
    "        model2.fit(x,y)\n",
    "        temp = model2.get_support().sum()\n",
    "        if temp > leng*0.95 : threshold *= 10\n",
    "        elif temp < leng*0.8 : threshold *= 0.1\n",
    "        else : break\n",
    "    report_elastic[i] = model2.get_support()\n",
    "report_elastic['mean'] = report_elastic.apply(lambda x : x.mean(), axis=1)"
   ]
  },
  {
   "cell_type": "code",
   "execution_count": 109,
   "metadata": {},
   "outputs": [
    {
     "data": {
      "text/plain": [
       "3"
      ]
     },
     "execution_count": 109,
     "metadata": {},
     "output_type": "execute_result"
    }
   ],
   "source": [
    "report_elastic = pd.DataFrame(index=modelCols)\n",
    "leng = len(modelCols)\n",
    "threshold = 1.0e-5\n",
    "for i in tqdm(range(5)):\n",
    "    x = locals()['x_train_'+str(i)]\n",
    "    y = locals()['y_train_'+str(i)].values\n",
    "    x_ = locals()['x_validate_'+str(i)]\n",
    "    y_ = locals()['y_validate_'+str(i)].values\n",
    "\n",
    "    model = Lasso()\n",
    "    while 1 :\n",
    "        model2 = SelectFromModel(model, threshold=threshold)\n",
    "        model2.fit(x,y)\n",
    "        temp = model2.get_support().sum()\n",
    "        if temp > leng*0.95 : threshold *= 10\n",
    "        elif temp < leng*0.85 : threshold *= 0.1\n",
    "        else : break\n",
    "    report_elastic[i] = model2.get_support()\n",
    "report_elastic['mean'] = report_elastic.apply(lambda x : x.mean(), axis=1)"
   ]
  },
  {
   "cell_type": "code",
   "execution_count": null,
   "metadata": {},
   "outputs": [],
   "source": [
    "report_elastic = pd.DataFrame(index=modelCols)\n",
    "leng = len(modelCols)\n",
    "threshold = 1.0e-5\n",
    "for i in tqdm(range(5)):\n",
    "    x = locals()['x_train_'+str(i)]\n",
    "    y = locals()['y_train_'+str(i)].values\n",
    "    x_ = locals()['x_validate_'+str(i)]\n",
    "    y_ = locals()['y_validate_'+str(i)].values\n",
    "\n",
    "    model = Ridge()\n",
    "    while 1 :\n",
    "        model2 = SelectFromModel(model, threshold=threshold)\n",
    "        model2.fit(x,y)\n",
    "        temp = model2.get_support().sum()\n",
    "        if temp > leng*0.95 : threshold *= 10\n",
    "        elif temp < leng*0.85 : threshold *= 0.1\n",
    "        else : break\n",
    "    report_elastic[i] = model2.get_support()\n",
    "report_elastic['mean'] = report_elastic.apply(lambda x : x.mean(), axis=1)"
   ]
  }
 ],
 "metadata": {
  "kernelspec": {
   "display_name": "Python 3",
   "language": "python",
   "name": "python3"
  },
  "language_info": {
   "codemirror_mode": {
    "name": "ipython",
    "version": 3
   },
   "file_extension": ".py",
   "mimetype": "text/x-python",
   "name": "python",
   "nbconvert_exporter": "python",
   "pygments_lexer": "ipython3",
   "version": "3.7.2"
  }
 },
 "nbformat": 4,
 "nbformat_minor": 2
}

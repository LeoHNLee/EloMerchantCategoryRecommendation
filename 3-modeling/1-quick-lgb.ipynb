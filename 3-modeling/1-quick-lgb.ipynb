{
 "cells": [
  {
   "cell_type": "code",
   "execution_count": 1,
   "metadata": {},
   "outputs": [],
   "source": [
    "import pandas as pd\n",
    "import numpy as np\n",
    "from sklearn.model_selection import ShuffleSplit as spliter\n",
    "from sklearn.metrics import mean_squared_error as mse\n",
    "import lightgbm as lgb\n",
    "from tqdm import tqdm\n",
    "import warnings, gc, sys, os\n",
    "\n",
    "warnings.filterwarnings('ignore')\n",
    "sys.path.append(os.path.abspath(os.path.dirname(\"../\")))\n",
    "import hn_elo as elo"
   ]
  },
  {
   "cell_type": "code",
   "execution_count": 10,
   "metadata": {},
   "outputs": [],
   "source": [
    "path = '../../dataset/'\n",
    "\n",
    "train = pd.read_hdf(path+'trainPrep1.h5')\n",
    "trainPure = pd.read_hdf(path+'pureTrain.h5')\n",
    "test = pd.read_hdf(path+'testPrep1.h5')\n",
    "\n",
    "hist = pd.read_hdf(path+'histPrep2.h5')\n",
    "new = pd.read_hdf(path+'newPrep2.h5')\n",
    "\n",
    "# mer = pd.read_csv(path+'merchants.csv')"
   ]
  },
  {
   "cell_type": "code",
   "execution_count": 7,
   "metadata": {},
   "outputs": [],
   "source": [
    "hist.to_hdf(path+'histPrep1.h5', 'histPrep1')\n",
    "new.to_hdf(path+'newPrep1.h5', 'newPrep1')\n",
    "# train.to_hdf(path+'trainPrep1.h5', 'trainPrep1')\n",
    "# test.to_hdf(path+'testPrep1.h5', 'testPrep1')\n",
    "# trainPure.to_hdf(path+'pureTrain.h5', 'pureTrain')"
   ]
  },
  {
   "cell_type": "code",
   "execution_count": 12,
   "metadata": {},
   "outputs": [],
   "source": [
    "# create agg functions\n",
    "from scipy import stats\n",
    "def mode(x):\n",
    "    return stats.mode(x)[0][0]\n",
    "\n",
    "merged = {\n",
    "    'card_id':'count',\n",
    "    'authorized_flag' : 'mean',\n",
    "    'city_id' : [mode, 'nunique'],\n",
    "    'category_1': [mode, 'mean', 'median', 'std', 'max','min'],\n",
    "    'installments' : ['mean', 'median', 'std', 'max','min'],\n",
    "    'category_3' : [mode, 'mean', 'median', 'std', 'max', 'min'],\n",
    "    'merchant_category_id' : [mode,'nunique'],\n",
    "    'merchant_id' : [mode, 'nunique'],\n",
    "    'month_lag':['mean', 'median', 'std', 'max', 'min'],\n",
    "    'purchase_amount':['mean', 'median', 'std', 'max', 'min'],\n",
    "    'fromRefDate':['min','max','mean','median','std'],\n",
    "    'purchaseYear':['mean', 'median', 'std'],\n",
    "    'purchaseMonth':['mean', 'median', 'std'],\n",
    "    'purchaseDay':['mean', 'median', 'std'],\n",
    "    'purchaseHour':['mean', 'median', 'std'],\n",
    "    'category_2' : [mode, 'mean', 'median', 'std','max','min'],\n",
    "    'state_id':[mode,'nunique'],\n",
    "    'subsector_id':[mode, 'nunique'],\n",
    "}\n",
    "\n",
    "# zip hist and new\n",
    "trans = hist.append(new)\n",
    "trans = trans.reset_index()\n",
    "transByCard = trans.groupby('card_id').agg(merged)\n",
    "transByCard = transByCard.reset_index()\n",
    "\n",
    "# merging trans + train/test\n",
    "trainMerged = pd.merge(train, transByCard, how='left', on='card_id')\n",
    "testMerged = pd.merge(test, transByCard, how='left', on='card_id')\n",
    "trainPureMerged = pd.merge(trainPure, transByCard, how='left', on='card_id')"
   ]
  },
  {
   "cell_type": "code",
   "execution_count": 20,
   "metadata": {},
   "outputs": [],
   "source": [
    "# create colum names and category column names using for train\n",
    "modelCols = elo.modelCols(trainMerged, \n",
    "                          removal = ('target', 'card_id','first_active',))\n",
    "def createCats(removal=None):\n",
    "    ret = [\n",
    "            'feature_1','feature_2','feature_3',\n",
    "             \"('city_id', 'mode')\",\"('category_1', 'mode')\",\n",
    "             \"('category_3', 'mode')\",\"('merchant_category_id', 'mode')\",\n",
    "             \"('category_2', 'mode')\",\"('state_id', 'mode')\",\n",
    "             \"('subsector_id', 'mode')\",\"('merchant_id', 'mode')\",\n",
    "            ]\n",
    "    if removal is not None :\n",
    "        for rm in removal:\n",
    "            ret.remove(rm)\n",
    "    return ret\n",
    "modelCats = createCats()\n",
    "\n",
    "# parameters\n",
    "paramsValidate = {\n",
    "    'objective':'regression',\n",
    "    'metric':'l2',\n",
    "    'num_threads':8,\n",
    "}\n",
    "\n",
    "splitRate = test.shape[0]/(train.shape[0]+test.shape[0])\n",
    "folder = spliter(5, splitRate)"
   ]
  },
  {
   "cell_type": "code",
   "execution_count": 15,
   "metadata": {},
   "outputs": [],
   "source": [
    "# reanme\n",
    "trainMerged = elo.renameCols(trainMerged, modelCols)\n",
    "testMerged = elo.renameCols(testMerged, modelCols)\n",
    "trainPureMerged = elo.renameCols(trainPureMerged, modelCols)"
   ]
  },
  {
   "cell_type": "code",
   "execution_count": 25,
   "metadata": {},
   "outputs": [
    {
     "name": "stderr",
     "output_type": "stream",
     "text": [
      "3it [00:06,  2.03s/it]\n"
     ]
    }
   ],
   "source": [
    "# train 5-fold quick lgb\n",
    "basicImprts, basicScore = elo.quickLgbValidate(\n",
    "    trainMerged, folder, modelCols, modelCats, paramsValidate)"
   ]
  },
  {
   "cell_type": "code",
   "execution_count": 27,
   "metadata": {},
   "outputs": [
    {
     "data": {
      "text/plain": [
       "test     2.795520\n",
       "train    2.403949\n",
       "dtype: float64"
      ]
     },
     "execution_count": 27,
     "metadata": {},
     "output_type": "execute_result"
    }
   ],
   "source": [
    "basicScore.mean()"
   ]
  },
  {
   "cell_type": "code",
   "execution_count": 36,
   "metadata": {
    "collapsed": true
   },
   "outputs": [
    {
     "name": "stderr",
     "output_type": "stream",
     "text": [
      "5it [00:04,  1.12it/s]\n"
     ]
    },
    {
     "data": {
      "text/plain": [
       "colName\n",
       "feature_1                           5.331073e+02\n",
       "feature_2                           2.921668e+02\n",
       "feature_3                           2.500764e+02\n",
       "first_active_year                   1.946795e+02\n",
       "first_active_month                  1.051816e+03\n",
       "lowerBound                          7.871493e+06\n",
       "('authorized_flag', 'mean')         4.498616e+03\n",
       "('city_id', 'mode')                 1.045675e+05\n",
       "('category_1', 'mean')              7.387484e+02\n",
       "('category_1', 'std')               8.714387e+02\n",
       "('installments', 'mean')            2.172225e+03\n",
       "('installments', 'median')          2.263768e+02\n",
       "('installments', 'std')             8.653832e+02\n",
       "('category_3', 'mode')              1.793574e+02\n",
       "('category_3', 'mean')              2.570565e+03\n",
       "('category_3', 'std')               9.691240e+02\n",
       "('merchant_category_id', 'mode')    2.021216e+04\n",
       "('month_lag', 'mean')               3.262462e+04\n",
       "('month_lag', 'median')             6.318819e+03\n",
       "('month_lag', 'std')                3.093077e+04\n",
       "('purchase_amount', 'mean')         1.485994e+03\n",
       "('purchase_amount', 'median')       2.483176e+03\n",
       "('purchase_amount', 'std')          7.469440e+03\n",
       "('purchaseYear', 'mean')            8.513538e+03\n",
       "('purchaseYear', 'std')             5.308826e+03\n",
       "('purchaseMonth', 'mean')           8.794272e+03\n",
       "('purchaseMonth', 'median')         5.026942e+03\n",
       "('purchaseMonth', 'std')            1.125334e+04\n",
       "('purchaseDay', 'mean')             2.560975e+03\n",
       "('purchaseDay', 'median')           1.691018e+03\n",
       "('purchaseDay', 'std')              3.013704e+03\n",
       "('purchaseHour', 'mean')            1.727141e+03\n",
       "('purchaseHour', 'median')          6.396495e+02\n",
       "('purchaseHour', 'std')             2.582661e+03\n",
       "('category_2', 'mean')              4.969135e+02\n",
       "('category_2', 'std')               1.362962e+03\n",
       "('state_id', 'mode')                8.143999e+02\n",
       "('subsector_id', 'mode')            1.700700e+03\n",
       "Name: mean, dtype: float64"
      ]
     },
     "execution_count": 36,
     "metadata": {},
     "output_type": "execute_result"
    }
   ],
   "source": [
    "modelCols = basicImprts[basicImprts['mean']>100].index.tolist()\n",
    "modelCats = list(set(modelCats)&set(modelCols))\n",
    "\n",
    "basicCoreImprts, basicCoreScore = quickLgbValidate(\n",
    "    trainMerged, folder, modelCols, modelCats, paramsValidate)"
   ]
  },
  {
   "cell_type": "markdown",
   "metadata": {},
   "source": [
    "## except target-min"
   ]
  },
  {
   "cell_type": "code",
   "execution_count": 17,
   "metadata": {},
   "outputs": [
    {
     "name": "stderr",
     "output_type": "stream",
     "text": [
      "5it [00:04,  1.02it/s]\n"
     ]
    }
   ],
   "source": [
    "modelCols = elo.modelCols(trainPureMerged, \n",
    "                          removal=('target','card_id','lowerBound','first_active'))\n",
    "modelCats = createCats()\n",
    "pureImprts, pureScore = quickLgbValidate(\n",
    "    trainPureMerged, folder, modelCols, modelCats, paramsValidate)"
   ]
  },
  {
   "cell_type": "code",
   "execution_count": 25,
   "metadata": {
    "collapsed": true
   },
   "outputs": [
    {
     "name": "stderr",
     "output_type": "stream",
     "text": [
      "5it [00:04,  1.15it/s]\n"
     ]
    },
    {
     "data": {
      "text/plain": [
       "colName\n",
       "feature_1                              326.448401\n",
       "feature_2                              159.455278\n",
       "feature_3                              223.163220\n",
       "first_active_year                      187.023301\n",
       "first_active_month                     972.588816\n",
       "('authorized_flag', 'mean')           4377.450773\n",
       "('city_id', 'mode')                 106615.325029\n",
       "('category_1', 'mean')                 634.061381\n",
       "('category_1', 'std')                  812.112837\n",
       "('installments', 'mean')              1824.592340\n",
       "('installments', 'median')             280.114799\n",
       "('installments', 'std')               1027.715221\n",
       "('category_3', 'mode')                  94.482661\n",
       "('category_3', 'mean')                2637.280474\n",
       "('category_3', 'std')                 1053.045339\n",
       "('merchant_category_id', 'mode')     20557.558931\n",
       "('month_lag', 'mean')                33288.405067\n",
       "('month_lag', 'median')               4607.837008\n",
       "('month_lag', 'std')                 31939.982106\n",
       "('purchase_amount', 'mean')           1462.436061\n",
       "('purchase_amount', 'median')         2724.569497\n",
       "('purchase_amount', 'std')            7429.215872\n",
       "('purchaseYear', 'mean')              8695.806220\n",
       "('purchaseYear', 'median')              22.442000\n",
       "('purchaseYear', 'std')               5403.714821\n",
       "('purchaseMonth', 'mean')             8751.130675\n",
       "('purchaseMonth', 'median')           6301.294618\n",
       "('purchaseMonth', 'std')             11420.222707\n",
       "('purchaseDay', 'mean')               2142.506293\n",
       "('purchaseDay', 'median')             1570.236860\n",
       "('purchaseDay', 'std')                3404.036069\n",
       "('purchaseHour', 'mean')              1645.976078\n",
       "('purchaseHour', 'median')             729.048760\n",
       "('purchaseHour', 'std')               2231.983059\n",
       "('category_2', 'mean')                 685.670704\n",
       "('category_2', 'std')                 1620.026536\n",
       "('state_id', 'mode')                   901.302732\n",
       "('subsector_id', 'mode')              2320.613636\n",
       "Name: mean, dtype: float64"
      ]
     },
     "execution_count": 25,
     "metadata": {},
     "output_type": "execute_result"
    }
   ],
   "source": [
    "modelCols = importancesPure[importancesPure['mean']>100].index.tolist()\n",
    "modelCats = list(set(modelCats)&set(modelCols))\n",
    "\n",
    "pureCoreImprts, pureCoreScore = quickLgbValidate(\n",
    "    trainPureMerged, folder, modelCols, modelCats, paramsValidate)"
   ]
  },
  {
   "cell_type": "markdown",
   "metadata": {},
   "source": [
    "## Base Score"
   ]
  },
  {
   "cell_type": "code",
   "execution_count": 12,
   "metadata": {},
   "outputs": [],
   "source": [
    "modelCols = elo.modelCols(trainPureMerged, \n",
    "                          removal=('target', 'card_id', 'first_active','lowerBound'))\n",
    "modelCats = createCats()\n",
    "submission, bst = quickLgbTest(trainPuremerged, testMerged, modelCols, modelCats, params)"
   ]
  },
  {
   "cell_type": "code",
   "execution_count": 17,
   "metadata": {
    "scrolled": true
   },
   "outputs": [],
   "source": [
    "submission.to_csv('20190124-submission-quick-lgb.csv', index=False)"
   ]
  }
 ],
 "metadata": {
  "kernelspec": {
   "display_name": "Python 3",
   "language": "python",
   "name": "python3"
  },
  "language_info": {
   "codemirror_mode": {
    "name": "ipython",
    "version": 3
   },
   "file_extension": ".py",
   "mimetype": "text/x-python",
   "name": "python",
   "nbconvert_exporter": "python",
   "pygments_lexer": "ipython3",
   "version": "3.7.2"
  }
 },
 "nbformat": 4,
 "nbformat_minor": 2
}

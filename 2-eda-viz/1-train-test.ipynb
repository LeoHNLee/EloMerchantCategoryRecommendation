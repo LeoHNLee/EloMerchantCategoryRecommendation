{
 "cells": [
  {
   "cell_type": "code",
   "execution_count": 3,
   "metadata": {},
   "outputs": [],
   "source": [
    "import numpy as np\n",
    "import matplotlib.pyplot as plt\n",
    "import pandas as pd\n",
    "import time, warnings, os, re, sys\n",
    "import datetime as dt\n",
    "import seaborn as sns\n",
    "\n",
    "sys.path.append(os.path.abspath(os.path.dirname(\"../\")))\n",
    "from modules import edaViz"
   ]
  },
  {
   "cell_type": "markdown",
   "metadata": {},
   "source": [
    "## 1. Overall"
   ]
  },
  {
   "cell_type": "code",
   "execution_count": 2,
   "metadata": {
    "scrolled": true
   },
   "outputs": [
    {
     "name": "stdout",
     "output_type": "stream",
     "text": [
      "trainLabels information :  \n",
      "\n",
      "<class 'pandas.core.frame.DataFrame'>\n",
      "RangeIndex: 201917 entries, 0 to 201916\n",
      "Data columns (total 6 columns):\n",
      "first_active_month    201917 non-null object\n",
      "card_id               201917 non-null object\n",
      "feature_1             201917 non-null int64\n",
      "feature_2             201917 non-null int64\n",
      "feature_3             201917 non-null int64\n",
      "target                201917 non-null float64\n",
      "dtypes: float64(1), int64(3), object(2)\n",
      "memory usage: 9.2+ MB\n",
      "\n",
      "\n",
      "testLabels information :  \n",
      "\n",
      "<class 'pandas.core.frame.DataFrame'>\n",
      "RangeIndex: 123623 entries, 0 to 123622\n",
      "Data columns (total 5 columns):\n",
      "first_active_month    123622 non-null object\n",
      "card_id               123623 non-null object\n",
      "feature_1             123623 non-null int64\n",
      "feature_2             123623 non-null int64\n",
      "feature_3             123623 non-null int64\n",
      "dtypes: int64(3), object(2)\n",
      "memory usage: 4.7+ MB\n",
      "\n",
      "\n"
     ]
    }
   ],
   "source": [
    "trainLabels = pd.read_csv('../dataset/origin/train.csv')\n",
    "testLabels = pd.read_csv('../dataset/origin/test.csv')\n",
    "\n",
    "edaViz.printInfo('trainLabels', trainLabels)\n",
    "edaViz.printInfo('testLabels', testLabels)"
   ]
  },
  {
   "cell_type": "code",
   "execution_count": 4,
   "metadata": {
    "scrolled": true
   },
   "outputs": [
    {
     "name": "stdout",
     "output_type": "stream",
     "text": [
      "trainLabels Describe :  \n",
      "            feature_1      feature_2      feature_3         target\n",
      "count  201917.000000  201917.000000  201917.000000  201917.000000\n",
      "mean        3.105311       1.745410       0.565569      -0.393636\n",
      "std         1.186160       0.751362       0.495683       3.850500\n",
      "min         1.000000       1.000000       0.000000     -33.219281\n",
      "25%         2.000000       1.000000       0.000000      -0.883110\n",
      "50%         3.000000       2.000000       1.000000      -0.023437\n",
      "75%         4.000000       2.000000       1.000000       0.765453\n",
      "max         5.000000       3.000000       1.000000      17.965068 \n",
      "\n",
      "\n",
      "testLabels Describe :  \n",
      "           feature_1      feature_2      feature_3\n",
      "count  123623.00000  123623.000000  123623.000000\n",
      "mean        3.10926       1.741796       0.564377\n",
      "std         1.18911       0.749195       0.495840\n",
      "min         1.00000       1.000000       0.000000\n",
      "25%         2.00000       1.000000       0.000000\n",
      "50%         3.00000       2.000000       1.000000\n",
      "75%         4.00000       2.000000       1.000000\n",
      "max         5.00000       3.000000       1.000000 \n",
      "\n",
      "\n"
     ]
    }
   ],
   "source": [
    "edaViz.printDescribe('trainLabels', trainLabels)\n",
    "edaViz.printDescribe('testLabels', testLabels)"
   ]
  },
  {
   "cell_type": "markdown",
   "metadata": {},
   "source": [
    "## 2. first active month\n",
    "\n",
    "- split to year and month"
   ]
  },
  {
   "cell_type": "code",
   "execution_count": 34,
   "metadata": {
    "scrolled": true
   },
   "outputs": [
    {
     "name": "stdout",
     "output_type": "stream",
     "text": [
      "0    2017-06\n",
      "1    2017-01\n",
      "2    2016-08\n",
      "3    2017-09\n",
      "4    2017-11\n",
      "5    2016-09\n",
      "6    2016-12\n",
      "7    2017-09\n",
      "8    2017-08\n",
      "9    2016-08\n",
      "Name: first_active_month, dtype: object\n",
      "\n",
      "\n",
      " <class 'str'>\n"
     ]
    }
   ],
   "source": [
    "print(trainLabels['first_active_month'].head(10))\n",
    "print(\"\\n\\n\",type(trainLabels['first_active_month'][0]))"
   ]
  },
  {
   "cell_type": "code",
   "execution_count": 35,
   "metadata": {},
   "outputs": [],
   "source": [
    "trainLabels['first_active_year'], trainLabels['first_active_month'] = edaViz.preFirstActiveMonth(trainLabels)\n",
    "testLabels['first_active_year'], testLabels['first_active_month'] = edaViz.preFirstActiveMonth(testLabels)"
   ]
  },
  {
   "cell_type": "markdown",
   "metadata": {},
   "source": [
    "## 3. Features"
   ]
  },
  {
   "cell_type": "code",
   "execution_count": 9,
   "metadata": {
    "scrolled": true
   },
   "outputs": [
    {
     "name": "stdout",
     "output_type": "stream",
     "text": [
      "feature_1 Unique :  \n",
      " [5 4 2 1 3] \n",
      "\n",
      "feature_1 Count :  \n",
      " 3    73573\n",
      "2    55797\n",
      "5    40625\n",
      "4    19885\n",
      "1    12037\n",
      "Name: feature_1, dtype: int64 \n",
      "\n",
      "\n",
      "feature_2 Unique :  \n",
      " [2 1 3] \n",
      "\n",
      "feature_2 Count :  \n",
      " 1    89242\n",
      "2    74839\n",
      "3    37836\n",
      "Name: feature_2, dtype: int64 \n",
      "\n",
      "\n",
      "feature_3 Unique :  \n",
      " [1 0] \n",
      "\n",
      "feature_3 Count :  \n",
      " 1    114198\n",
      "0     87719\n",
      "Name: feature_3, dtype: int64 \n",
      "\n",
      "\n",
      "feature_1 Unique :  \n",
      " [3 2 5 1 4] \n",
      "\n",
      "feature_1 Count :  \n",
      " 3    44719\n",
      "2    34115\n",
      "5    25051\n",
      "4    12332\n",
      "1     7406\n",
      "Name: feature_1, dtype: int64 \n",
      "\n",
      "\n",
      "feature_2 Unique :  \n",
      " [3 1 2] \n",
      "\n",
      "feature_2 Count :  \n",
      " 1    54775\n",
      "2    45993\n",
      "3    22855\n",
      "Name: feature_2, dtype: int64 \n",
      "\n",
      "\n",
      "feature_3 Unique :  \n",
      " [1 0] \n",
      "\n",
      "feature_3 Count :  \n",
      " 1    69770\n",
      "0    53853\n",
      "Name: feature_3, dtype: int64 \n",
      "\n",
      "\n"
     ]
    }
   ],
   "source": [
    "# features\n",
    "edaViz.printUniqCount(trainLabels[['feature_1','feature_2','feature_3']])\n",
    "edaViz.printUniqCount(testLabels[['feature_1','feature_2','feature_3']])"
   ]
  },
  {
   "cell_type": "code",
   "execution_count": 16,
   "metadata": {},
   "outputs": [
    {
     "data": {
      "text/plain": [
       "<matplotlib.axes._subplots.AxesSubplot at 0x2082208e860>"
      ]
     },
     "execution_count": 16,
     "metadata": {},
     "output_type": "execute_result"
    },
    {
     "data": {
      "image/png": "[encoded data removed]",
      "text/plain": [
       "<Figure size 432x288 with 1 Axes>"
      ]
     },
     "metadata": {
      "needs_background": "light"
     },
     "output_type": "display_data"
    }
   ],
   "source": [
    "sns.stripplot(x=trainLabels['feature_1'], y=trainLabels['target'], size=2)"
   ]
  },
  {
   "cell_type": "code",
   "execution_count": 21,
   "metadata": {},
   "outputs": [
    {
     "data": {
      "text/plain": [
       "<matplotlib.axes._subplots.AxesSubplot at 0x2081833a160>"
      ]
     },
     "execution_count": 21,
     "metadata": {},
     "output_type": "execute_result"
    },
    {
     "data": {
      "image/png": "[encoded data removed]",
      "text/plain": [
       "<Figure size 432x288 with 1 Axes>"
      ]
     },
     "metadata": {
      "needs_background": "light"
     },
     "output_type": "display_data"
    }
   ],
   "source": [
    "sns.stripplot(x=trainLabels['feature_2'], y=trainLabels['target'], size=1.5)"
   ]
  },
  {
   "cell_type": "code",
   "execution_count": 20,
   "metadata": {},
   "outputs": [
    {
     "data": {
      "text/plain": [
       "<matplotlib.axes._subplots.AxesSubplot at 0x2081814b780>"
      ]
     },
     "execution_count": 20,
     "metadata": {},
     "output_type": "execute_result"
    },
    {
     "data": {
      "image/png": "[encoded data removed]",
      "text/plain": [
       "<Figure size 432x288 with 1 Axes>"
      ]
     },
     "metadata": {
      "needs_background": "light"
     },
     "output_type": "display_data"
    }
   ],
   "source": [
    "sns.stripplot(x=trainLabels['feature_3'], y=trainLabels['target'], size=1.5)"
   ]
  },
  {
   "cell_type": "code",
   "execution_count": 26,
   "metadata": {
    "scrolled": true
   },
   "outputs": [
    {
     "name": "stdout",
     "output_type": "stream",
     "text": [
      "feature_1 Unique :  \n",
      " [3 4 2 5 1] \n",
      "\n",
      "feature_1 Count :  \n",
      " 3    771\n",
      "2    592\n",
      "5    534\n",
      "4    213\n",
      "1     97\n",
      "Name: feature_1, dtype: int64 \n",
      "\n",
      "\n",
      "feature_2 Unique :  \n",
      " [1 3 2] \n",
      "\n",
      "feature_2 Count :  \n",
      " 1    1016\n",
      "2     655\n",
      "3     536\n",
      "Name: feature_2, dtype: int64 \n",
      "\n",
      "\n",
      "feature_3 Unique :  \n",
      " [1 0] \n",
      "\n",
      "feature_3 Count :  \n",
      " 1    1305\n",
      "0     902\n",
      "Name: feature_3, dtype: int64 \n",
      "\n",
      "\n",
      "feature_1 Unique :  \n",
      " [5] \n",
      "\n",
      "feature_1 Count :  \n",
      " 5    1\n",
      "Name: feature_1, dtype: int64 \n",
      "\n",
      "\n",
      "feature_2 Unique :  \n",
      " [1] \n",
      "\n",
      "feature_2 Count :  \n",
      " 1    1\n",
      "Name: feature_2, dtype: int64 \n",
      "\n",
      "\n",
      "feature_3 Unique :  \n",
      " [1] \n",
      "\n",
      "feature_3 Count :  \n",
      " 1    1\n",
      "Name: feature_3, dtype: int64 \n",
      "\n",
      "\n"
     ]
    }
   ],
   "source": [
    "targetMin = trainLabels['target'].min()\n",
    "targetMax = trainLabels['target'].max()\n",
    "edaViz.printUniqCount(trainLabels[['feature_1','feature_2','feature_3']][trainLabels['target']==targetMin])\n",
    "edaViz.printUniqCount(trainLabels[['feature_1','feature_2','feature_3']][trainLabels['target']==targetMax])"
   ]
  },
  {
   "cell_type": "code",
   "execution_count": 29,
   "metadata": {},
   "outputs": [
    {
     "name": "stdout",
     "output_type": "stream",
     "text": [
      "-17.60814651\n",
      "17.9650684\n"
     ]
    }
   ],
   "source": [
    "print(trainLabels['target'][trainLabels['target']>targetMin].min())\n",
    "print(targetMax)"
   ]
  },
  {
   "cell_type": "code",
   "execution_count": 30,
   "metadata": {},
   "outputs": [],
   "source": [
    "trainLabels['lowerBound'] = (trainLabels['target']==targetMin)"
   ]
  },
  {
   "cell_type": "markdown",
   "metadata": {},
   "source": [
    "## 4. Exit"
   ]
  },
  {
   "cell_type": "code",
   "execution_count": 39,
   "metadata": {},
   "outputs": [],
   "source": [
    "trainLabels.to_csv(\"../dataset/edaViz/train_edaViz.csv\", index=False)\n",
    "testLabels.to_csv(\"../dataset/edaViz/test_edaViz.csv\", index=False)"
   ]
  }
 ],
 "metadata": {
  "kernelspec": {
   "display_name": "Python 3",
   "language": "python",
   "name": "python3"
  },
  "language_info": {
   "codemirror_mode": {
    "name": "ipython",
    "version": 3
   },
   "file_extension": ".py",
   "mimetype": "text/x-python",
   "name": "python",
   "nbconvert_exporter": "python",
   "pygments_lexer": "ipython3",
   "version": "3.6.7"
  }
 },
 "nbformat": 4,
 "nbformat_minor": 2
}
